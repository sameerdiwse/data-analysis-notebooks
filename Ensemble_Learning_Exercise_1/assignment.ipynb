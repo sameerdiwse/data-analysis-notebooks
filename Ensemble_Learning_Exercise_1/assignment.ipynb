{
 "cells": [
  {
   "cell_type": "markdown",
   "id": "baf2816d-9bb4-41f5-a0cc-28d21076897e",
   "metadata": {},
   "source": [
    "### Problem Statement\n",
    "\n",
    "You are a data scientist / AI engineer at a medical research firm. You have been provided with a dataset named **`\"cancer_data.csv\"`**, which includes medical and lifestyle information for 1500 patients. The dataset is designed to predict the presence of cancer based on various features. The dataset comprises the following columns:\n",
    "\n",
    "- `age:` Integer values representing the patient's age, ranging from 20 to 80.\n",
    "- `gender:` Binary values representing gender, where 0 indicates Male and 1 indicates Female.\n",
    "- `bmi:` Continuous values representing Body Mass Index, ranging from 15 to 40.\n",
    "- `smoking:` Binary values indicating smoking status, where 0 means No and 1 means Yes.\n",
    "- `genetic_risk:` Categorical values representing genetic risk levels for cancer, with 0 indicating Low, 1 indicating Medium, and 2 indicating High.\n",
    "- `physical_activity:` Continuous values representing the number of hours per week spent on physical activities, ranging from 0 to 10.\n",
    "- `alcohol_intake:` Continuous values representing the number of alcohol units consumed per week, ranging from 0 to 5.\n",
    "- `cancer_history:` Binary values indicating whether the patient has a personal history of cancer, where 0 means No and 1 means Yes.\n",
    "- `diagnosis:` Binary values indicating the cancer diagnosis status, where 0 indicates No Cancer and 1 indicates Cancer.\n",
    "\n",
    "  \n",
    "Your task is to use this dataset to build and compare the performance of Decision Tree and Random Forest models to predict the presence of cancer. Additionally, explore various parameters of the RandomForestClassifier to enhance model performance.\n",
    "\n",
    "**Dataset credits:** Rabie El Kharoua (https://www.kaggle.com/datasets/rabieelkharoua/cancer-prediction-dataset)"
   ]
  },
  {
   "cell_type": "markdown",
   "id": "15221f04-00ac-4e0b-8a89-305664501db4",
   "metadata": {},
   "source": [
    "**Import Necessary Libraries**"
   ]
  },
  {
   "cell_type": "code",
   "execution_count": 1,
   "id": "473a0b20-c224-48d3-b72d-0f1c680d2c08",
   "metadata": {},
   "outputs": [],
   "source": [
    "#import necessary libraries\n"
   ]
  },
  {
   "cell_type": "markdown",
   "id": "a4b44afd-f118-4fd0-b028-4b25ae125514",
   "metadata": {},
   "source": [
    "### Task 1: Data Preparation and Exploration\n",
    "\n",
    "1. Import the data from the `\"cancer_data.csv\"` file and store it in a variable df.\n",
    "2. Display the number of rows and columns in the dataset.\n",
    "3. Display the first few rows of the dataset to get an overview.\n",
    "4. Check for any missing values in the dataset."
   ]
  },
  {
   "cell_type": "code",
   "execution_count": 2,
   "id": "4ea4c74b-e0e7-4b04-a0e8-969e95549598",
   "metadata": {},
   "outputs": [],
   "source": [
    "# Step 1: Import the data from the \"cancer_data.csv\" file and store it in a variable 'df'\n",
    "\n",
    "\n",
    "# Step 2: Display the number of rows and columns in the dataset\n",
    "\n",
    "\n",
    "# Step 3: Display the first few rows of the dataset to get an overview\n"
   ]
  },
  {
   "cell_type": "code",
   "execution_count": 3,
   "id": "6d1bb675-d45d-458f-b2a7-9d67814a79d8",
   "metadata": {},
   "outputs": [],
   "source": [
    "# Step 4: Check for any missing values in the dataset\n"
   ]
  },
  {
   "cell_type": "markdown",
   "id": "4bf8dd00-9ded-4221-879c-4134bdca63fa",
   "metadata": {},
   "source": [
    "### Task 2: Model Training Using Decision Tree Classifier\n",
    "\n",
    "1. Select the features `(age, gender, bmi, smoking, genetic_risk, physical_activity, alcohol_intake, cancer_history)` and the target variable `(diagnosis)` for modeling.\n",
    "2. Split the data into training and test sets with a test size of 25%.\n",
    "3. Initialize and train a Decision Tree Classifier model using the training data.\n",
    "4. Make predictions on the test set using the trained model.\n",
    "5. Evaluate the model using a classification report and print the report."
   ]
  },
  {
   "cell_type": "code",
   "execution_count": 4,
   "id": "c44dbd28-36b0-4b13-aeb0-8fe5adee203c",
   "metadata": {},
   "outputs": [],
   "source": [
    "# Step 1: Select the features and target variable for modeling\n",
    "\n",
    "\n",
    "# Step 2: Split the data into training and test sets with a test size of 25%\n"
   ]
  },
  {
   "cell_type": "code",
   "execution_count": 5,
   "id": "2d29c0a8-27bc-4619-9e95-eeff3175ca2c",
   "metadata": {},
   "outputs": [],
   "source": [
    "# Step 3: Initialize and train a Decision Tree Classifier model using the training data\n",
    "\n",
    "\n",
    "# Step 4: Make predictions on the test set using the trained model\n",
    "\n",
    "\n",
    "# Step 5: Evaluate the model using a classification report and print the report\n"
   ]
  },
  {
   "cell_type": "markdown",
   "id": "0438dba9-beb8-46fd-91be-a1ad366992d0",
   "metadata": {},
   "source": [
    "### Task 3: Model Training Using Random Forest Classifier\n",
    "\n",
    "1. Initialize and train a Random Forest Classifier model with 25 estimators using the training data.\n",
    "2. Make predictions on the test set using the trained model.\n",
    "3. Evaluate the model using a classification report and print the report."
   ]
  },
  {
   "cell_type": "code",
   "execution_count": 6,
   "id": "88a74d91-7389-4417-aa60-a2b2b07c2d38",
   "metadata": {},
   "outputs": [],
   "source": [
    "# Step 1: Initialize and train a Random Forest Classifier model with 25 estimators using the training data\n",
    "\n",
    "\n",
    "# Step 2: Make predictions on the test set using the trained model\n",
    "\n",
    "\n",
    "# Step 3: Evaluate the model using a classification report and print the report\n"
   ]
  },
  {
   "cell_type": "markdown",
   "id": "a1c566bb-c8db-4fc5-a038-7d243403c758",
   "metadata": {},
   "source": [
    "### Task 4: Exploring Various Parameters in Random Forest Classifier\n",
    "\n",
    "1. Train a Random Forest model with the following parameters:\n",
    "   - n_estimators = 50\n",
    "   - max_features = \"log2\"\n",
    "   - criterion = \"entropy\"\n",
    "   - bootstrap = False\n",
    "   - max_depth = 15\n",
    "   - min_samples_split = 5\n",
    "   - min_samples_leaf = 3\n",
    "\n",
    "Learn about these parameters here: [scikit-learn RandomForestClassifier Parameters](https://scikit-learn.org/stable/modules/generated/sklearn.ensemble.RandomForestClassifier.html)\r\n",
    "\n",
    "\n",
    "--------------------------------------------------------------------------------------------------------------------------------------------------------\n",
    "2. Evaluate the model using a classification report and print the report."
   ]
  },
  {
   "cell_type": "code",
   "execution_count": 7,
   "id": "0cd30d45-0ff1-4631-91f4-eb506e444e03",
   "metadata": {},
   "outputs": [],
   "source": [
    "# Step 1: Train a Random Forest model with specified parameters\n",
    "\n",
    "\n",
    "# Step 2: Make predictions on the test set using the trained model\n",
    "\n",
    "\n",
    "# Step 3: Evaluate the model using a classification report and print the report\n"
   ]
  }
 ],
 "metadata": {
  "kernelspec": {
   "display_name": "Python 3 (ipykernel)",
   "language": "python",
   "name": "python3"
  },
  "language_info": {
   "codemirror_mode": {
    "name": "ipython",
    "version": 3
   },
   "file_extension": ".py",
   "mimetype": "text/x-python",
   "name": "python",
   "nbconvert_exporter": "python",
   "pygments_lexer": "ipython3",
   "version": "3.10.11"
  }
 },
 "nbformat": 4,
 "nbformat_minor": 5
}
