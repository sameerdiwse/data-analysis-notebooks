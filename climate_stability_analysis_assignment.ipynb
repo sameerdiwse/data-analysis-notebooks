{
 "cells": [
  {
   "cell_type": "markdown",
   "id": "61c6fd18",
   "metadata": {},
   "source": [
    "### Comparing Weather Temperature Variability for Agricultural Investment Decisions\n",
    "\n",
    "**context:** An agricultural investment firm is in the process of deciding on a location for a new farming project. Understanding that **consistent** and predictable weather conditions are vital for successful agriculture, the firm aims to evaluate and compare two potential cities based on their temperature stability. The key factor in this decision-making process is the variability in average daily temperatures, as it directly impacts crop growth and agricultural planning.\n",
    "\n",
    "The firm has provided a dataset, named **\"climate_stability_comparison.xlsx\"**, to aid in this assessment. This dataset includes the following columns:\n",
    "\n",
    "- **month:** Indicates the month of the year.\n",
    "- **Avg Temp City A (°C):** The average daily temperature for City A in each month, measured in degrees Celsius.\n",
    "- **Avg Temp City B (°C):** The average daily temperature for City B in each month, measured in degrees Celsius."
   ]
  },
  {
   "cell_type": "markdown",
   "id": "8f7f7cf8",
   "metadata": {},
   "source": [
    "### Task Objective\n",
    "\n",
    "- Calculate the standard deviation for average temperatures in both cities.\n",
    "- Determine which city has a higher temperature variability.\n",
    "- Decide on the city with more stable (lower variability) temperatures for agricultural investment."
   ]
  },
  {
   "cell_type": "markdown",
   "id": "82e43619",
   "metadata": {},
   "source": [
    "**Import necessary libraries**"
   ]
  },
  {
   "cell_type": "code",
   "execution_count": 1,
   "id": "183bc784",
   "metadata": {},
   "outputs": [],
   "source": [
    "import numpy as np\n",
    "from matplotlib import pyplot as plt\n",
    "import pandas as pd"
   ]
  },
  {
   "cell_type": "code",
   "execution_count": 3,
   "id": "ef78c41a",
   "metadata": {},
   "outputs": [
    {
     "data": {
      "text/html": [
       "<div>\n",
       "<style scoped>\n",
       "    .dataframe tbody tr th:only-of-type {\n",
       "        vertical-align: middle;\n",
       "    }\n",
       "\n",
       "    .dataframe tbody tr th {\n",
       "        vertical-align: top;\n",
       "    }\n",
       "\n",
       "    .dataframe thead th {\n",
       "        text-align: right;\n",
       "    }\n",
       "</style>\n",
       "<table border=\"1\" class=\"dataframe\">\n",
       "  <thead>\n",
       "    <tr style=\"text-align: right;\">\n",
       "      <th></th>\n",
       "      <th>month</th>\n",
       "      <th>Avg Temp City A (°C)</th>\n",
       "      <th>Avg Temp City B (°C)</th>\n",
       "    </tr>\n",
       "  </thead>\n",
       "  <tbody>\n",
       "    <tr>\n",
       "      <th>0</th>\n",
       "      <td>January</td>\n",
       "      <td>14</td>\n",
       "      <td>13</td>\n",
       "    </tr>\n",
       "    <tr>\n",
       "      <th>1</th>\n",
       "      <td>February</td>\n",
       "      <td>15</td>\n",
       "      <td>16</td>\n",
       "    </tr>\n",
       "    <tr>\n",
       "      <th>2</th>\n",
       "      <td>March</td>\n",
       "      <td>14</td>\n",
       "      <td>18</td>\n",
       "    </tr>\n",
       "    <tr>\n",
       "      <th>3</th>\n",
       "      <td>April</td>\n",
       "      <td>16</td>\n",
       "      <td>20</td>\n",
       "    </tr>\n",
       "    <tr>\n",
       "      <th>4</th>\n",
       "      <td>May</td>\n",
       "      <td>17</td>\n",
       "      <td>19</td>\n",
       "    </tr>\n",
       "    <tr>\n",
       "      <th>5</th>\n",
       "      <td>June</td>\n",
       "      <td>18</td>\n",
       "      <td>23</td>\n",
       "    </tr>\n",
       "    <tr>\n",
       "      <th>6</th>\n",
       "      <td>July</td>\n",
       "      <td>19</td>\n",
       "      <td>25</td>\n",
       "    </tr>\n",
       "    <tr>\n",
       "      <th>7</th>\n",
       "      <td>August</td>\n",
       "      <td>18</td>\n",
       "      <td>22</td>\n",
       "    </tr>\n",
       "    <tr>\n",
       "      <th>8</th>\n",
       "      <td>September</td>\n",
       "      <td>17</td>\n",
       "      <td>18</td>\n",
       "    </tr>\n",
       "    <tr>\n",
       "      <th>9</th>\n",
       "      <td>October</td>\n",
       "      <td>16</td>\n",
       "      <td>14</td>\n",
       "    </tr>\n",
       "  </tbody>\n",
       "</table>\n",
       "</div>"
      ],
      "text/plain": [
       "       month  Avg Temp City A (°C)  Avg Temp City B (°C)\n",
       "0    January                    14                    13\n",
       "1   February                    15                    16\n",
       "2      March                    14                    18\n",
       "3      April                    16                    20\n",
       "4        May                    17                    19\n",
       "5       June                    18                    23\n",
       "6       July                    19                    25\n",
       "7     August                    18                    22\n",
       "8  September                    17                    18\n",
       "9    October                    16                    14"
      ]
     },
     "execution_count": 3,
     "metadata": {},
     "output_type": "execute_result"
    }
   ],
   "source": [
    "df = pd.read_excel('D:\\\\CodeBasics\\\\MathsnStats_Exercise3\\\\climate_stability_comparison.xlsx')\n",
    "df.head(10)"
   ]
  },
  {
   "cell_type": "markdown",
   "id": "53cfa5ee",
   "metadata": {},
   "source": [
    "**1: Data Import**"
   ]
  },
  {
   "cell_type": "markdown",
   "id": "f8a87ee5",
   "metadata": {},
   "source": [
    "**2: Calculate standard deviations**"
   ]
  },
  {
   "cell_type": "code",
   "execution_count": 4,
   "id": "e89bf08b",
   "metadata": {},
   "outputs": [
    {
     "data": {
      "text/plain": [
       "1.729862492345632"
      ]
     },
     "execution_count": 4,
     "metadata": {},
     "output_type": "execute_result"
    }
   ],
   "source": [
    "#calculate standard deviation for both City A and City B\n",
    "std_dev_A = df['Avg Temp City A (°C)'].std()\n",
    "std_dev_A\n",
    "# -----> 'City A' standard deviation"
   ]
  },
  {
   "cell_type": "code",
   "execution_count": 4,
   "id": "a778a41c",
   "metadata": {},
   "outputs": [
    {
     "name": "stdout",
     "output_type": "stream",
     "text": [
      "this is std_dev_B: 4.266678503771459\n"
     ]
    },
    {
     "data": {
      "text/plain": [
       "4.266678503771459"
      ]
     },
     "execution_count": 4,
     "metadata": {},
     "output_type": "execute_result"
    }
   ],
   "source": [
    "# -----> 'City B' standard deviation\n",
    "std_dev_B = df['Avg Temp City B (°C)'].std()\n",
    "print(f'this is std_dev_B: {std_dev_B}')\n",
    "std_dev_B"
   ]
  },
  {
   "cell_type": "markdown",
   "id": "1aaad487",
   "metadata": {},
   "source": [
    "**3: Comparison**"
   ]
  },
  {
   "cell_type": "code",
   "execution_count": 6,
   "id": "65462d6c",
   "metadata": {},
   "outputs": [
    {
     "name": "stdout",
     "output_type": "stream",
     "text": [
      "City A has 1.729862492345632 standard deviation and city B has 4.266678503771459 standard deviation\n"
     ]
    }
   ],
   "source": [
    "print(f'City A has {std_dev_A} standard deviation and city B has {std_dev_B} standard deviation')"
   ]
  },
  {
   "cell_type": "markdown",
   "id": "a06f8038",
   "metadata": {},
   "source": [
    "**4: Observation and Decision**"
   ]
  },
  {
   "cell_type": "raw",
   "id": "64346a4e-1c3a-47cc-b026-8e8ca595573d",
   "metadata": {},
   "source": [
    "Since city B has higher standard deviation, we will not go with city B. We will choose city A."
   ]
  }
 ],
 "metadata": {
  "kernelspec": {
   "display_name": "Python 3 (ipykernel)",
   "language": "python",
   "name": "python3"
  },
  "language_info": {
   "codemirror_mode": {
    "name": "ipython",
    "version": 3
   },
   "file_extension": ".py",
   "mimetype": "text/x-python",
   "name": "python",
   "nbconvert_exporter": "python",
   "pygments_lexer": "ipython3",
   "version": "3.10.4"
  }
 },
 "nbformat": 4,
 "nbformat_minor": 5
}
