{
 "cells": [
  {
   "cell_type": "code",
   "execution_count": 26,
   "id": "86f455cc-c476-43b5-bc80-6a993ae6e496",
   "metadata": {},
   "outputs": [],
   "source": [
    "import pandas as pd\n",
    "from sklearn.model_selection import train_test_split"
   ]
  },
  {
   "cell_type": "code",
   "execution_count": 6,
   "id": "1f12e88e-9932-4c71-9a0d-5b970f2d1d79",
   "metadata": {},
   "outputs": [
    {
     "data": {
      "text/html": [
       "<div>\n",
       "<style scoped>\n",
       "    .dataframe tbody tr th:only-of-type {\n",
       "        vertical-align: middle;\n",
       "    }\n",
       "\n",
       "    .dataframe tbody tr th {\n",
       "        vertical-align: top;\n",
       "    }\n",
       "\n",
       "    .dataframe thead th {\n",
       "        text-align: right;\n",
       "    }\n",
       "</style>\n",
       "<table border=\"1\" class=\"dataframe\">\n",
       "  <thead>\n",
       "    <tr style=\"text-align: right;\">\n",
       "      <th></th>\n",
       "      <th>f1</th>\n",
       "      <th>f2</th>\n",
       "      <th>f3</th>\n",
       "      <th>f4</th>\n",
       "      <th>f5</th>\n",
       "      <th>f6</th>\n",
       "      <th>f7</th>\n",
       "      <th>f8</th>\n",
       "      <th>f9</th>\n",
       "      <th>f10</th>\n",
       "      <th>...</th>\n",
       "      <th>f142</th>\n",
       "      <th>f143</th>\n",
       "      <th>f144</th>\n",
       "      <th>f145</th>\n",
       "      <th>f146</th>\n",
       "      <th>f147</th>\n",
       "      <th>f148</th>\n",
       "      <th>f149</th>\n",
       "      <th>f150</th>\n",
       "      <th>target</th>\n",
       "    </tr>\n",
       "  </thead>\n",
       "  <tbody>\n",
       "    <tr>\n",
       "      <th>0</th>\n",
       "      <td>-0.924357</td>\n",
       "      <td>-0.326536</td>\n",
       "      <td>-1.875007</td>\n",
       "      <td>-1.780626</td>\n",
       "      <td>-0.630143</td>\n",
       "      <td>0.788204</td>\n",
       "      <td>2.792209</td>\n",
       "      <td>-0.772192</td>\n",
       "      <td>-0.450994</td>\n",
       "      <td>0.400000</td>\n",
       "      <td>...</td>\n",
       "      <td>0.968645</td>\n",
       "      <td>-0.702053</td>\n",
       "      <td>-0.327662</td>\n",
       "      <td>-0.392108</td>\n",
       "      <td>-1.463515</td>\n",
       "      <td>0.296120</td>\n",
       "      <td>0.261055</td>\n",
       "      <td>0.005113</td>\n",
       "      <td>-0.234587</td>\n",
       "      <td>10.681366</td>\n",
       "    </tr>\n",
       "    <tr>\n",
       "      <th>1</th>\n",
       "      <td>0.001795</td>\n",
       "      <td>-1.285599</td>\n",
       "      <td>-0.726774</td>\n",
       "      <td>0.385711</td>\n",
       "      <td>0.891863</td>\n",
       "      <td>0.599451</td>\n",
       "      <td>-0.140553</td>\n",
       "      <td>-0.761760</td>\n",
       "      <td>0.117707</td>\n",
       "      <td>0.333231</td>\n",
       "      <td>...</td>\n",
       "      <td>0.856399</td>\n",
       "      <td>0.214094</td>\n",
       "      <td>-1.245739</td>\n",
       "      <td>0.173181</td>\n",
       "      <td>0.385317</td>\n",
       "      <td>-0.883857</td>\n",
       "      <td>0.153725</td>\n",
       "      <td>0.058209</td>\n",
       "      <td>-1.142970</td>\n",
       "      <td>-60.163343</td>\n",
       "    </tr>\n",
       "    <tr>\n",
       "      <th>2</th>\n",
       "      <td>0.956702</td>\n",
       "      <td>2.319330</td>\n",
       "      <td>-0.705012</td>\n",
       "      <td>0.081829</td>\n",
       "      <td>0.330880</td>\n",
       "      <td>0.838491</td>\n",
       "      <td>2.493000</td>\n",
       "      <td>1.227669</td>\n",
       "      <td>-0.785989</td>\n",
       "      <td>-0.920674</td>\n",
       "      <td>...</td>\n",
       "      <td>-0.493001</td>\n",
       "      <td>-0.589365</td>\n",
       "      <td>0.849602</td>\n",
       "      <td>0.357015</td>\n",
       "      <td>-0.692910</td>\n",
       "      <td>0.899600</td>\n",
       "      <td>0.307300</td>\n",
       "      <td>0.812862</td>\n",
       "      <td>0.629629</td>\n",
       "      <td>131.226545</td>\n",
       "    </tr>\n",
       "    <tr>\n",
       "      <th>3</th>\n",
       "      <td>-0.982294</td>\n",
       "      <td>0.190424</td>\n",
       "      <td>1.082691</td>\n",
       "      <td>0.714610</td>\n",
       "      <td>-1.907808</td>\n",
       "      <td>0.224216</td>\n",
       "      <td>0.156973</td>\n",
       "      <td>0.556553</td>\n",
       "      <td>0.058984</td>\n",
       "      <td>-1.397118</td>\n",
       "      <td>...</td>\n",
       "      <td>0.491919</td>\n",
       "      <td>-1.320233</td>\n",
       "      <td>1.831459</td>\n",
       "      <td>1.179440</td>\n",
       "      <td>-0.469176</td>\n",
       "      <td>-1.713135</td>\n",
       "      <td>1.353872</td>\n",
       "      <td>-0.114540</td>\n",
       "      <td>1.237816</td>\n",
       "      <td>-131.889020</td>\n",
       "    </tr>\n",
       "    <tr>\n",
       "      <th>4</th>\n",
       "      <td>-0.057061</td>\n",
       "      <td>-0.592465</td>\n",
       "      <td>-2.850030</td>\n",
       "      <td>-1.935430</td>\n",
       "      <td>2.002427</td>\n",
       "      <td>-1.012644</td>\n",
       "      <td>1.059950</td>\n",
       "      <td>-1.000629</td>\n",
       "      <td>0.141596</td>\n",
       "      <td>-0.642776</td>\n",
       "      <td>...</td>\n",
       "      <td>1.479944</td>\n",
       "      <td>0.077368</td>\n",
       "      <td>-0.861284</td>\n",
       "      <td>1.523124</td>\n",
       "      <td>0.538910</td>\n",
       "      <td>-1.037246</td>\n",
       "      <td>-0.190339</td>\n",
       "      <td>-0.875618</td>\n",
       "      <td>-1.382800</td>\n",
       "      <td>-138.566956</td>\n",
       "    </tr>\n",
       "  </tbody>\n",
       "</table>\n",
       "<p>5 rows × 151 columns</p>\n",
       "</div>"
      ],
      "text/plain": [
       "         f1        f2        f3        f4        f5        f6        f7  \\\n",
       "0 -0.924357 -0.326536 -1.875007 -1.780626 -0.630143  0.788204  2.792209   \n",
       "1  0.001795 -1.285599 -0.726774  0.385711  0.891863  0.599451 -0.140553   \n",
       "2  0.956702  2.319330 -0.705012  0.081829  0.330880  0.838491  2.493000   \n",
       "3 -0.982294  0.190424  1.082691  0.714610 -1.907808  0.224216  0.156973   \n",
       "4 -0.057061 -0.592465 -2.850030 -1.935430  2.002427 -1.012644  1.059950   \n",
       "\n",
       "         f8        f9       f10  ...      f142      f143      f144      f145  \\\n",
       "0 -0.772192 -0.450994  0.400000  ...  0.968645 -0.702053 -0.327662 -0.392108   \n",
       "1 -0.761760  0.117707  0.333231  ...  0.856399  0.214094 -1.245739  0.173181   \n",
       "2  1.227669 -0.785989 -0.920674  ... -0.493001 -0.589365  0.849602  0.357015   \n",
       "3  0.556553  0.058984 -1.397118  ...  0.491919 -1.320233  1.831459  1.179440   \n",
       "4 -1.000629  0.141596 -0.642776  ...  1.479944  0.077368 -0.861284  1.523124   \n",
       "\n",
       "       f146      f147      f148      f149      f150      target  \n",
       "0 -1.463515  0.296120  0.261055  0.005113 -0.234587   10.681366  \n",
       "1  0.385317 -0.883857  0.153725  0.058209 -1.142970  -60.163343  \n",
       "2 -0.692910  0.899600  0.307300  0.812862  0.629629  131.226545  \n",
       "3 -0.469176 -1.713135  1.353872 -0.114540  1.237816 -131.889020  \n",
       "4  0.538910 -1.037246 -0.190339 -0.875618 -1.382800 -138.566956  \n",
       "\n",
       "[5 rows x 151 columns]"
      ]
     },
     "execution_count": 6,
     "metadata": {},
     "output_type": "execute_result"
    }
   ],
   "source": [
    "df = pd.read_csv('dataset.csv')\n",
    "df.head()"
   ]
  },
  {
   "cell_type": "code",
   "execution_count": 39,
   "id": "f7e0a1b4-a691-4e81-bc37-fdbf57288244",
   "metadata": {},
   "outputs": [
    {
     "data": {
      "text/plain": [
       "(200, 150)"
      ]
     },
     "execution_count": 39,
     "metadata": {},
     "output_type": "execute_result"
    }
   ],
   "source": [
    "#Segregating in dependent and independent variables.\n",
    "X = df.drop(['target'], axis=1)\n",
    "X.shape"
   ]
  },
  {
   "cell_type": "code",
   "execution_count": 38,
   "id": "d24cb4f5-e6b2-45e5-bd26-53cd776f2b3f",
   "metadata": {},
   "outputs": [
    {
     "data": {
      "text/plain": [
       "(200, 1)"
      ]
     },
     "execution_count": 38,
     "metadata": {},
     "output_type": "execute_result"
    }
   ],
   "source": [
    "y = df[['target']]\n",
    "y.shape"
   ]
  },
  {
   "cell_type": "markdown",
   "id": "5ad2a10a-a29f-4ccd-83bd-69c03d9b57bf",
   "metadata": {},
   "source": [
    "### Splitting data into training and testing sets"
   ]
  },
  {
   "cell_type": "code",
   "execution_count": 44,
   "id": "f99fcba1-badf-4faa-b78a-2dc3c66e00ec",
   "metadata": {},
   "outputs": [
    {
     "data": {
      "text/plain": [
       "(160, 40, 200, 200)"
      ]
     },
     "execution_count": 44,
     "metadata": {},
     "output_type": "execute_result"
    }
   ],
   "source": [
    "X_train, y_train, X_test, y_test = train_test_split(X, y, test_size=0.2, random_state=40)\n",
    "X_train.shape[0], y_train.shape[0], X.shape[0], y.shape[0]"
   ]
  }
 ],
 "metadata": {
  "kernelspec": {
   "display_name": "Python 3 (ipykernel)",
   "language": "python",
   "name": "python3"
  },
  "language_info": {
   "codemirror_mode": {
    "name": "ipython",
    "version": 3
   },
   "file_extension": ".py",
   "mimetype": "text/x-python",
   "name": "python",
   "nbconvert_exporter": "python",
   "pygments_lexer": "ipython3",
   "version": "3.10.4"
  }
 },
 "nbformat": 4,
 "nbformat_minor": 5
}
