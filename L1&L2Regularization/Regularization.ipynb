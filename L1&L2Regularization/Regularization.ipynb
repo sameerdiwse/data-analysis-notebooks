{
 "cells": [
  {
   "cell_type": "code",
   "execution_count": 80,
   "id": "86f455cc-c476-43b5-bc80-6a993ae6e496",
   "metadata": {},
   "outputs": [],
   "source": [
    "import pandas as pd\n",
    "from sklearn.model_selection import train_test_split\n",
    "from sklearn.linear_model import LinearRegression\n",
    "from sklearn.metrics import r2_score\n",
    "import matplotlib.pyplot as plt \n",
    "import numpy as np"
   ]
  },
  {
   "cell_type": "code",
   "execution_count": 6,
   "id": "1f12e88e-9932-4c71-9a0d-5b970f2d1d79",
   "metadata": {},
   "outputs": [
    {
     "data": {
      "text/html": [
       "<div>\n",
       "<style scoped>\n",
       "    .dataframe tbody tr th:only-of-type {\n",
       "        vertical-align: middle;\n",
       "    }\n",
       "\n",
       "    .dataframe tbody tr th {\n",
       "        vertical-align: top;\n",
       "    }\n",
       "\n",
       "    .dataframe thead th {\n",
       "        text-align: right;\n",
       "    }\n",
       "</style>\n",
       "<table border=\"1\" class=\"dataframe\">\n",
       "  <thead>\n",
       "    <tr style=\"text-align: right;\">\n",
       "      <th></th>\n",
       "      <th>f1</th>\n",
       "      <th>f2</th>\n",
       "      <th>f3</th>\n",
       "      <th>f4</th>\n",
       "      <th>f5</th>\n",
       "      <th>f6</th>\n",
       "      <th>f7</th>\n",
       "      <th>f8</th>\n",
       "      <th>f9</th>\n",
       "      <th>f10</th>\n",
       "      <th>...</th>\n",
       "      <th>f142</th>\n",
       "      <th>f143</th>\n",
       "      <th>f144</th>\n",
       "      <th>f145</th>\n",
       "      <th>f146</th>\n",
       "      <th>f147</th>\n",
       "      <th>f148</th>\n",
       "      <th>f149</th>\n",
       "      <th>f150</th>\n",
       "      <th>target</th>\n",
       "    </tr>\n",
       "  </thead>\n",
       "  <tbody>\n",
       "    <tr>\n",
       "      <th>0</th>\n",
       "      <td>-0.924357</td>\n",
       "      <td>-0.326536</td>\n",
       "      <td>-1.875007</td>\n",
       "      <td>-1.780626</td>\n",
       "      <td>-0.630143</td>\n",
       "      <td>0.788204</td>\n",
       "      <td>2.792209</td>\n",
       "      <td>-0.772192</td>\n",
       "      <td>-0.450994</td>\n",
       "      <td>0.400000</td>\n",
       "      <td>...</td>\n",
       "      <td>0.968645</td>\n",
       "      <td>-0.702053</td>\n",
       "      <td>-0.327662</td>\n",
       "      <td>-0.392108</td>\n",
       "      <td>-1.463515</td>\n",
       "      <td>0.296120</td>\n",
       "      <td>0.261055</td>\n",
       "      <td>0.005113</td>\n",
       "      <td>-0.234587</td>\n",
       "      <td>10.681366</td>\n",
       "    </tr>\n",
       "    <tr>\n",
       "      <th>1</th>\n",
       "      <td>0.001795</td>\n",
       "      <td>-1.285599</td>\n",
       "      <td>-0.726774</td>\n",
       "      <td>0.385711</td>\n",
       "      <td>0.891863</td>\n",
       "      <td>0.599451</td>\n",
       "      <td>-0.140553</td>\n",
       "      <td>-0.761760</td>\n",
       "      <td>0.117707</td>\n",
       "      <td>0.333231</td>\n",
       "      <td>...</td>\n",
       "      <td>0.856399</td>\n",
       "      <td>0.214094</td>\n",
       "      <td>-1.245739</td>\n",
       "      <td>0.173181</td>\n",
       "      <td>0.385317</td>\n",
       "      <td>-0.883857</td>\n",
       "      <td>0.153725</td>\n",
       "      <td>0.058209</td>\n",
       "      <td>-1.142970</td>\n",
       "      <td>-60.163343</td>\n",
       "    </tr>\n",
       "    <tr>\n",
       "      <th>2</th>\n",
       "      <td>0.956702</td>\n",
       "      <td>2.319330</td>\n",
       "      <td>-0.705012</td>\n",
       "      <td>0.081829</td>\n",
       "      <td>0.330880</td>\n",
       "      <td>0.838491</td>\n",
       "      <td>2.493000</td>\n",
       "      <td>1.227669</td>\n",
       "      <td>-0.785989</td>\n",
       "      <td>-0.920674</td>\n",
       "      <td>...</td>\n",
       "      <td>-0.493001</td>\n",
       "      <td>-0.589365</td>\n",
       "      <td>0.849602</td>\n",
       "      <td>0.357015</td>\n",
       "      <td>-0.692910</td>\n",
       "      <td>0.899600</td>\n",
       "      <td>0.307300</td>\n",
       "      <td>0.812862</td>\n",
       "      <td>0.629629</td>\n",
       "      <td>131.226545</td>\n",
       "    </tr>\n",
       "    <tr>\n",
       "      <th>3</th>\n",
       "      <td>-0.982294</td>\n",
       "      <td>0.190424</td>\n",
       "      <td>1.082691</td>\n",
       "      <td>0.714610</td>\n",
       "      <td>-1.907808</td>\n",
       "      <td>0.224216</td>\n",
       "      <td>0.156973</td>\n",
       "      <td>0.556553</td>\n",
       "      <td>0.058984</td>\n",
       "      <td>-1.397118</td>\n",
       "      <td>...</td>\n",
       "      <td>0.491919</td>\n",
       "      <td>-1.320233</td>\n",
       "      <td>1.831459</td>\n",
       "      <td>1.179440</td>\n",
       "      <td>-0.469176</td>\n",
       "      <td>-1.713135</td>\n",
       "      <td>1.353872</td>\n",
       "      <td>-0.114540</td>\n",
       "      <td>1.237816</td>\n",
       "      <td>-131.889020</td>\n",
       "    </tr>\n",
       "    <tr>\n",
       "      <th>4</th>\n",
       "      <td>-0.057061</td>\n",
       "      <td>-0.592465</td>\n",
       "      <td>-2.850030</td>\n",
       "      <td>-1.935430</td>\n",
       "      <td>2.002427</td>\n",
       "      <td>-1.012644</td>\n",
       "      <td>1.059950</td>\n",
       "      <td>-1.000629</td>\n",
       "      <td>0.141596</td>\n",
       "      <td>-0.642776</td>\n",
       "      <td>...</td>\n",
       "      <td>1.479944</td>\n",
       "      <td>0.077368</td>\n",
       "      <td>-0.861284</td>\n",
       "      <td>1.523124</td>\n",
       "      <td>0.538910</td>\n",
       "      <td>-1.037246</td>\n",
       "      <td>-0.190339</td>\n",
       "      <td>-0.875618</td>\n",
       "      <td>-1.382800</td>\n",
       "      <td>-138.566956</td>\n",
       "    </tr>\n",
       "  </tbody>\n",
       "</table>\n",
       "<p>5 rows × 151 columns</p>\n",
       "</div>"
      ],
      "text/plain": [
       "         f1        f2        f3        f4        f5        f6        f7  \\\n",
       "0 -0.924357 -0.326536 -1.875007 -1.780626 -0.630143  0.788204  2.792209   \n",
       "1  0.001795 -1.285599 -0.726774  0.385711  0.891863  0.599451 -0.140553   \n",
       "2  0.956702  2.319330 -0.705012  0.081829  0.330880  0.838491  2.493000   \n",
       "3 -0.982294  0.190424  1.082691  0.714610 -1.907808  0.224216  0.156973   \n",
       "4 -0.057061 -0.592465 -2.850030 -1.935430  2.002427 -1.012644  1.059950   \n",
       "\n",
       "         f8        f9       f10  ...      f142      f143      f144      f145  \\\n",
       "0 -0.772192 -0.450994  0.400000  ...  0.968645 -0.702053 -0.327662 -0.392108   \n",
       "1 -0.761760  0.117707  0.333231  ...  0.856399  0.214094 -1.245739  0.173181   \n",
       "2  1.227669 -0.785989 -0.920674  ... -0.493001 -0.589365  0.849602  0.357015   \n",
       "3  0.556553  0.058984 -1.397118  ...  0.491919 -1.320233  1.831459  1.179440   \n",
       "4 -1.000629  0.141596 -0.642776  ...  1.479944  0.077368 -0.861284  1.523124   \n",
       "\n",
       "       f146      f147      f148      f149      f150      target  \n",
       "0 -1.463515  0.296120  0.261055  0.005113 -0.234587   10.681366  \n",
       "1  0.385317 -0.883857  0.153725  0.058209 -1.142970  -60.163343  \n",
       "2 -0.692910  0.899600  0.307300  0.812862  0.629629  131.226545  \n",
       "3 -0.469176 -1.713135  1.353872 -0.114540  1.237816 -131.889020  \n",
       "4  0.538910 -1.037246 -0.190339 -0.875618 -1.382800 -138.566956  \n",
       "\n",
       "[5 rows x 151 columns]"
      ]
     },
     "execution_count": 6,
     "metadata": {},
     "output_type": "execute_result"
    }
   ],
   "source": [
    "df = pd.read_csv('dataset.csv')\n",
    "df.head()"
   ]
  },
  {
   "cell_type": "code",
   "execution_count": 89,
   "id": "f7e0a1b4-a691-4e81-bc37-fdbf57288244",
   "metadata": {},
   "outputs": [
    {
     "data": {
      "text/plain": [
       "(200, 150)"
      ]
     },
     "execution_count": 89,
     "metadata": {},
     "output_type": "execute_result"
    }
   ],
   "source": [
    "#Segregating in dependent and independent variables.\n",
    "X = df.drop(['target'], axis=1)\n",
    "X.shape"
   ]
  },
  {
   "cell_type": "code",
   "execution_count": 38,
   "id": "d24cb4f5-e6b2-45e5-bd26-53cd776f2b3f",
   "metadata": {},
   "outputs": [
    {
     "data": {
      "text/plain": [
       "(200, 1)"
      ]
     },
     "execution_count": 38,
     "metadata": {},
     "output_type": "execute_result"
    }
   ],
   "source": [
    "y = df[['target']]\n",
    "y.shape"
   ]
  },
  {
   "cell_type": "markdown",
   "id": "5ad2a10a-a29f-4ccd-83bd-69c03d9b57bf",
   "metadata": {},
   "source": [
    "### Splitting data into training and testing sets"
   ]
  },
  {
   "cell_type": "code",
   "execution_count": 61,
   "id": "f99fcba1-badf-4faa-b78a-2dc3c66e00ec",
   "metadata": {},
   "outputs": [],
   "source": [
    "X_train, X_test, y_train, y_test = train_test_split(X, y, test_size=0.2, random_state=40)"
   ]
  },
  {
   "cell_type": "markdown",
   "id": "4c6ed783-5770-4671-ab80-4e95f3c60d38",
   "metadata": {},
   "source": [
    "### Training and Evaluating the Model"
   ]
  },
  {
   "cell_type": "code",
   "execution_count": 65,
   "id": "dd4996b8-e0c5-4320-b6f6-7d41857dfd98",
   "metadata": {},
   "outputs": [
    {
     "data": {
      "text/plain": [
       "(0.9130453117764007, 0.9130453117764007)"
      ]
     },
     "execution_count": 65,
     "metadata": {},
     "output_type": "execute_result"
    }
   ],
   "source": [
    "linMod = LinearRegression()\n",
    "linMod.fit(X_train, y_train)\n",
    "y_pred = linMod.predict(X_test)\n",
    "r2_score(y_test, y_pred), linMod.score(X_test, y_test)"
   ]
  },
  {
   "cell_type": "markdown",
   "id": "b9248aa1-997e-4703-a1fa-24f5718b8eea",
   "metadata": {},
   "source": [
    "#### Plotting the graph"
   ]
  },
  {
   "cell_type": "code",
   "execution_count": 87,
   "id": "1f0b15c1-e84e-46fe-b01c-b072d873b7a9",
   "metadata": {},
   "outputs": [
    {
     "ename": "ValueError",
     "evalue": "Boolean array expected for the condition, not int64",
     "output_type": "error",
     "traceback": [
      "\u001b[1;31m---------------------------------------------------------------------------\u001b[0m",
      "\u001b[1;31mValueError\u001b[0m                                Traceback (most recent call last)",
      "Cell \u001b[1;32mIn [87], line 3\u001b[0m\n\u001b[0;32m      1\u001b[0m plt\u001b[38;5;241m.\u001b[39mfigure(figsize\u001b[38;5;241m=\u001b[39m(\u001b[38;5;241m12\u001b[39m, \u001b[38;5;241m6\u001b[39m))\n\u001b[0;32m      2\u001b[0m sorted_indices \u001b[38;5;241m=\u001b[39m np\u001b[38;5;241m.\u001b[39margsort(X)\n\u001b[1;32m----> 3\u001b[0m X_sorted \u001b[38;5;241m=\u001b[39m \u001b[43mX\u001b[49m\u001b[43m[\u001b[49m\u001b[43msorted_indices\u001b[49m\u001b[43m]\u001b[49m\n\u001b[0;32m      4\u001b[0m y_sorted \u001b[38;5;241m=\u001b[39m y[sorted_indices]\n\u001b[0;32m      5\u001b[0m plt\u001b[38;5;241m.\u001b[39mplot(X_sorted, y_sorted)\n",
      "File \u001b[1;32m~\\AppData\\Local\\Programs\\Python\\Python310\\lib\\site-packages\\pandas\\core\\frame.py:3792\u001b[0m, in \u001b[0;36mDataFrame.__getitem__\u001b[1;34m(self, key)\u001b[0m\n\u001b[0;32m   3790\u001b[0m \u001b[38;5;66;03m# Do we have a (boolean) DataFrame?\u001b[39;00m\n\u001b[0;32m   3791\u001b[0m \u001b[38;5;28;01mif\u001b[39;00m \u001b[38;5;28misinstance\u001b[39m(key, DataFrame):\n\u001b[1;32m-> 3792\u001b[0m     \u001b[38;5;28;01mreturn\u001b[39;00m \u001b[38;5;28;43mself\u001b[39;49m\u001b[38;5;241;43m.\u001b[39;49m\u001b[43mwhere\u001b[49m\u001b[43m(\u001b[49m\u001b[43mkey\u001b[49m\u001b[43m)\u001b[49m\n\u001b[0;32m   3794\u001b[0m \u001b[38;5;66;03m# Do we have a (boolean) 1d indexer?\u001b[39;00m\n\u001b[0;32m   3795\u001b[0m \u001b[38;5;28;01mif\u001b[39;00m com\u001b[38;5;241m.\u001b[39mis_bool_indexer(key):\n",
      "File \u001b[1;32m~\\AppData\\Local\\Programs\\Python\\Python310\\lib\\site-packages\\pandas\\util\\_decorators.py:211\u001b[0m, in \u001b[0;36mdeprecate_kwarg.<locals>._deprecate_kwarg.<locals>.wrapper\u001b[1;34m(*args, **kwargs)\u001b[0m\n\u001b[0;32m    209\u001b[0m     \u001b[38;5;28;01melse\u001b[39;00m:\n\u001b[0;32m    210\u001b[0m         kwargs[new_arg_name] \u001b[38;5;241m=\u001b[39m new_arg_value\n\u001b[1;32m--> 211\u001b[0m \u001b[38;5;28;01mreturn\u001b[39;00m func(\u001b[38;5;241m*\u001b[39margs, \u001b[38;5;241m*\u001b[39m\u001b[38;5;241m*\u001b[39mkwargs)\n",
      "File \u001b[1;32m~\\AppData\\Local\\Programs\\Python\\Python310\\lib\\site-packages\\pandas\\util\\_decorators.py:331\u001b[0m, in \u001b[0;36mdeprecate_nonkeyword_arguments.<locals>.decorate.<locals>.wrapper\u001b[1;34m(*args, **kwargs)\u001b[0m\n\u001b[0;32m    325\u001b[0m \u001b[38;5;28;01mif\u001b[39;00m \u001b[38;5;28mlen\u001b[39m(args) \u001b[38;5;241m>\u001b[39m num_allow_args:\n\u001b[0;32m    326\u001b[0m     warnings\u001b[38;5;241m.\u001b[39mwarn(\n\u001b[0;32m    327\u001b[0m         msg\u001b[38;5;241m.\u001b[39mformat(arguments\u001b[38;5;241m=\u001b[39m_format_argument_list(allow_args)),\n\u001b[0;32m    328\u001b[0m         \u001b[38;5;167;01mFutureWarning\u001b[39;00m,\n\u001b[0;32m    329\u001b[0m         stacklevel\u001b[38;5;241m=\u001b[39mfind_stack_level(),\n\u001b[0;32m    330\u001b[0m     )\n\u001b[1;32m--> 331\u001b[0m \u001b[38;5;28;01mreturn\u001b[39;00m func(\u001b[38;5;241m*\u001b[39margs, \u001b[38;5;241m*\u001b[39m\u001b[38;5;241m*\u001b[39mkwargs)\n",
      "File \u001b[1;32m~\\AppData\\Local\\Programs\\Python\\Python310\\lib\\site-packages\\pandas\\core\\frame.py:11920\u001b[0m, in \u001b[0;36mDataFrame.where\u001b[1;34m(self, cond, other, inplace, axis, level, errors, try_cast)\u001b[0m\n\u001b[0;32m  11906\u001b[0m \u001b[38;5;129m@deprecate_kwarg\u001b[39m(old_arg_name\u001b[38;5;241m=\u001b[39m\u001b[38;5;124m\"\u001b[39m\u001b[38;5;124merrors\u001b[39m\u001b[38;5;124m\"\u001b[39m, new_arg_name\u001b[38;5;241m=\u001b[39m\u001b[38;5;28;01mNone\u001b[39;00m)\n\u001b[0;32m  11907\u001b[0m \u001b[38;5;129m@deprecate_nonkeyword_arguments\u001b[39m(\n\u001b[0;32m  11908\u001b[0m     version\u001b[38;5;241m=\u001b[39m\u001b[38;5;28;01mNone\u001b[39;00m, allowed_args\u001b[38;5;241m=\u001b[39m[\u001b[38;5;124m\"\u001b[39m\u001b[38;5;124mself\u001b[39m\u001b[38;5;124m\"\u001b[39m, \u001b[38;5;124m\"\u001b[39m\u001b[38;5;124mcond\u001b[39m\u001b[38;5;124m\"\u001b[39m, \u001b[38;5;124m\"\u001b[39m\u001b[38;5;124mother\u001b[39m\u001b[38;5;124m\"\u001b[39m]\n\u001b[1;32m   (...)\u001b[0m\n\u001b[0;32m  11918\u001b[0m     try_cast: \u001b[38;5;28mbool\u001b[39m \u001b[38;5;241m|\u001b[39m lib\u001b[38;5;241m.\u001b[39mNoDefault \u001b[38;5;241m=\u001b[39m lib\u001b[38;5;241m.\u001b[39mno_default,\n\u001b[0;32m  11919\u001b[0m ) \u001b[38;5;241m-\u001b[39m\u001b[38;5;241m>\u001b[39m DataFrame \u001b[38;5;241m|\u001b[39m \u001b[38;5;28;01mNone\u001b[39;00m:\n\u001b[1;32m> 11920\u001b[0m     \u001b[38;5;28;01mreturn\u001b[39;00m \u001b[38;5;28;43msuper\u001b[39;49m\u001b[43m(\u001b[49m\u001b[43m)\u001b[49m\u001b[38;5;241;43m.\u001b[39;49m\u001b[43mwhere\u001b[49m\u001b[43m(\u001b[49m\n\u001b[0;32m  11921\u001b[0m \u001b[43m        \u001b[49m\u001b[43mcond\u001b[49m\u001b[43m,\u001b[49m\n\u001b[0;32m  11922\u001b[0m \u001b[43m        \u001b[49m\u001b[43mother\u001b[49m\u001b[43m,\u001b[49m\n\u001b[0;32m  11923\u001b[0m \u001b[43m        \u001b[49m\u001b[43minplace\u001b[49m\u001b[38;5;241;43m=\u001b[39;49m\u001b[43minplace\u001b[49m\u001b[43m,\u001b[49m\n\u001b[0;32m  11924\u001b[0m \u001b[43m        \u001b[49m\u001b[43maxis\u001b[49m\u001b[38;5;241;43m=\u001b[39;49m\u001b[43maxis\u001b[49m\u001b[43m,\u001b[49m\n\u001b[0;32m  11925\u001b[0m \u001b[43m        \u001b[49m\u001b[43mlevel\u001b[49m\u001b[38;5;241;43m=\u001b[39;49m\u001b[43mlevel\u001b[49m\u001b[43m,\u001b[49m\n\u001b[0;32m  11926\u001b[0m \u001b[43m        \u001b[49m\u001b[43mtry_cast\u001b[49m\u001b[38;5;241;43m=\u001b[39;49m\u001b[43mtry_cast\u001b[49m\u001b[43m,\u001b[49m\n\u001b[0;32m  11927\u001b[0m \u001b[43m    \u001b[49m\u001b[43m)\u001b[49m\n",
      "File \u001b[1;32m~\\AppData\\Local\\Programs\\Python\\Python310\\lib\\site-packages\\pandas\\util\\_decorators.py:211\u001b[0m, in \u001b[0;36mdeprecate_kwarg.<locals>._deprecate_kwarg.<locals>.wrapper\u001b[1;34m(*args, **kwargs)\u001b[0m\n\u001b[0;32m    209\u001b[0m     \u001b[38;5;28;01melse\u001b[39;00m:\n\u001b[0;32m    210\u001b[0m         kwargs[new_arg_name] \u001b[38;5;241m=\u001b[39m new_arg_value\n\u001b[1;32m--> 211\u001b[0m \u001b[38;5;28;01mreturn\u001b[39;00m func(\u001b[38;5;241m*\u001b[39margs, \u001b[38;5;241m*\u001b[39m\u001b[38;5;241m*\u001b[39mkwargs)\n",
      "File \u001b[1;32m~\\AppData\\Local\\Programs\\Python\\Python310\\lib\\site-packages\\pandas\\util\\_decorators.py:331\u001b[0m, in \u001b[0;36mdeprecate_nonkeyword_arguments.<locals>.decorate.<locals>.wrapper\u001b[1;34m(*args, **kwargs)\u001b[0m\n\u001b[0;32m    325\u001b[0m \u001b[38;5;28;01mif\u001b[39;00m \u001b[38;5;28mlen\u001b[39m(args) \u001b[38;5;241m>\u001b[39m num_allow_args:\n\u001b[0;32m    326\u001b[0m     warnings\u001b[38;5;241m.\u001b[39mwarn(\n\u001b[0;32m    327\u001b[0m         msg\u001b[38;5;241m.\u001b[39mformat(arguments\u001b[38;5;241m=\u001b[39m_format_argument_list(allow_args)),\n\u001b[0;32m    328\u001b[0m         \u001b[38;5;167;01mFutureWarning\u001b[39;00m,\n\u001b[0;32m    329\u001b[0m         stacklevel\u001b[38;5;241m=\u001b[39mfind_stack_level(),\n\u001b[0;32m    330\u001b[0m     )\n\u001b[1;32m--> 331\u001b[0m \u001b[38;5;28;01mreturn\u001b[39;00m func(\u001b[38;5;241m*\u001b[39margs, \u001b[38;5;241m*\u001b[39m\u001b[38;5;241m*\u001b[39mkwargs)\n",
      "File \u001b[1;32m~\\AppData\\Local\\Programs\\Python\\Python310\\lib\\site-packages\\pandas\\core\\generic.py:9968\u001b[0m, in \u001b[0;36mNDFrame.where\u001b[1;34m(self, cond, other, inplace, axis, level, errors, try_cast)\u001b[0m\n\u001b[0;32m   9960\u001b[0m \u001b[38;5;28;01mif\u001b[39;00m try_cast \u001b[38;5;129;01mis\u001b[39;00m \u001b[38;5;129;01mnot\u001b[39;00m lib\u001b[38;5;241m.\u001b[39mno_default:\n\u001b[0;32m   9961\u001b[0m     warnings\u001b[38;5;241m.\u001b[39mwarn(\n\u001b[0;32m   9962\u001b[0m         \u001b[38;5;124m\"\u001b[39m\u001b[38;5;124mtry_cast keyword is deprecated and will be removed in a \u001b[39m\u001b[38;5;124m\"\u001b[39m\n\u001b[0;32m   9963\u001b[0m         \u001b[38;5;124m\"\u001b[39m\u001b[38;5;124mfuture version.\u001b[39m\u001b[38;5;124m\"\u001b[39m,\n\u001b[0;32m   9964\u001b[0m         \u001b[38;5;167;01mFutureWarning\u001b[39;00m,\n\u001b[0;32m   9965\u001b[0m         stacklevel\u001b[38;5;241m=\u001b[39mfind_stack_level(),\n\u001b[0;32m   9966\u001b[0m     )\n\u001b[1;32m-> 9968\u001b[0m \u001b[38;5;28;01mreturn\u001b[39;00m \u001b[38;5;28;43mself\u001b[39;49m\u001b[38;5;241;43m.\u001b[39;49m\u001b[43m_where\u001b[49m\u001b[43m(\u001b[49m\u001b[43mcond\u001b[49m\u001b[43m,\u001b[49m\u001b[43m \u001b[49m\u001b[43mother\u001b[49m\u001b[43m,\u001b[49m\u001b[43m \u001b[49m\u001b[43minplace\u001b[49m\u001b[43m,\u001b[49m\u001b[43m \u001b[49m\u001b[43maxis\u001b[49m\u001b[43m,\u001b[49m\u001b[43m \u001b[49m\u001b[43mlevel\u001b[49m\u001b[43m)\u001b[49m\n",
      "File \u001b[1;32m~\\AppData\\Local\\Programs\\Python\\Python310\\lib\\site-packages\\pandas\\core\\generic.py:9657\u001b[0m, in \u001b[0;36mNDFrame._where\u001b[1;34m(self, cond, other, inplace, axis, level)\u001b[0m\n\u001b[0;32m   9655\u001b[0m         \u001b[38;5;28;01mfor\u001b[39;00m dt \u001b[38;5;129;01min\u001b[39;00m cond\u001b[38;5;241m.\u001b[39mdtypes:\n\u001b[0;32m   9656\u001b[0m             \u001b[38;5;28;01mif\u001b[39;00m \u001b[38;5;129;01mnot\u001b[39;00m is_bool_dtype(dt):\n\u001b[1;32m-> 9657\u001b[0m                 \u001b[38;5;28;01mraise\u001b[39;00m \u001b[38;5;167;01mValueError\u001b[39;00m(msg\u001b[38;5;241m.\u001b[39mformat(dtype\u001b[38;5;241m=\u001b[39mdt))\n\u001b[0;32m   9658\u001b[0m \u001b[38;5;28;01melse\u001b[39;00m:\n\u001b[0;32m   9659\u001b[0m     \u001b[38;5;66;03m# GH#21947 we have an empty DataFrame/Series, could be object-dtype\u001b[39;00m\n\u001b[0;32m   9660\u001b[0m     cond \u001b[38;5;241m=\u001b[39m cond\u001b[38;5;241m.\u001b[39mastype(\u001b[38;5;28mbool\u001b[39m)\n",
      "\u001b[1;31mValueError\u001b[0m: Boolean array expected for the condition, not int64"
     ]
    },
    {
     "data": {
      "text/plain": [
       "<Figure size 1200x600 with 0 Axes>"
      ]
     },
     "metadata": {},
     "output_type": "display_data"
    }
   ],
   "source": [
    "plt.figure(figsize=(12, 6))\n",
    "sorted_indices = np.argsort(X)\n",
    "X_sorted = X[sorted_indices]\n",
    "y_sorted = y[sorted_indices]\n",
    "plt.plot(X_sorted, y_sorted)\n",
    "plt.show()\n",
    "X"
   ]
  }
 ],
 "metadata": {
  "kernelspec": {
   "display_name": "Python 3 (ipykernel)",
   "language": "python",
   "name": "python3"
  },
  "language_info": {
   "codemirror_mode": {
    "name": "ipython",
    "version": 3
   },
   "file_extension": ".py",
   "mimetype": "text/x-python",
   "name": "python",
   "nbconvert_exporter": "python",
   "pygments_lexer": "ipython3",
   "version": "3.10.4"
  }
 },
 "nbformat": 4,
 "nbformat_minor": 5
}
