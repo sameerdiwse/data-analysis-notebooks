{
 "cells": [
  {
   "cell_type": "markdown",
   "id": "dba33c53-92e9-4d50-b46b-52a9a5f2ced0",
   "metadata": {},
   "source": [
    "### Problem Statement\n",
    "\n",
    "You are a data scientist / AI engineer working on a binary classification problem. You have been provided with a dataset named **`\"social_network_ads.csv\"`**, which includes information about users' age, gender, estimated salary, and whether they purchased a product or not. The dataset comprises the following columns:\n",
    "\n",
    "- `user_id:` The unique identifier for each user.\n",
    "- `gender:` The gender of the user.\n",
    "- `age:` The age of the user.\n",
    "- `estimated_salary:` The estimated salary of the user.\n",
    "- `purchased:` Whether the user purchased the product or not (0 for No, 1 for Yes).\n",
    "  \n",
    "Your task is to use this dataset to build and evaluate a logistic regression model to predict whether a user will purchase the product based on their age, gender and estimated salary. You will also evaluate the model's performance using precision, recall, and other classification metrics.\n",
    "\n",
    "**Dataset credits:** Akram (https://www.kaggle.com/datasets/akram24/social-network-ads)"
   ]
  },
  {
   "cell_type": "markdown",
   "id": "2af9e8a8-dc96-437b-9603-17ba28451daa",
   "metadata": {},
   "source": [
    "**Import Necessary Libraries**"
   ]
  },
  {
   "cell_type": "code",
   "execution_count": 43,
   "id": "795f5f5e-8cf1-4097-9d52-e579473995d7",
   "metadata": {},
   "outputs": [],
   "source": [
    "#Import Necessary Libraries\n",
    "import pandas as pd\n",
    "import matplotlib.pyplot as plt\n",
    "from sklearn.model_selection import train_test_split\n",
    "from sklearn.linear_model import LogisticRegression"
   ]
  },
  {
   "cell_type": "markdown",
   "id": "c65dbf83-4cd3-4faf-8c7d-160ff41bb171",
   "metadata": {},
   "source": [
    "### Task 1: Data Preparation and Exploration\n",
    "\n",
    "1. Import the data from the `\"social_network_ads.csv\"` file and store it in a variable df.\n",
    "2. Display the number of rows and columns in the dataset.\n",
    "3. Display the first few rows of the dataset to get an overview.\n",
    "4. Check for any missing values in the dataset and handle them appropriately.\n",
    "5. Visualize the distribution of users' age and estimated salary using scatter plots."
   ]
  },
  {
   "cell_type": "code",
   "execution_count": 12,
   "id": "af453a2b-9c2a-49f3-8c52-8da3bb5e94ac",
   "metadata": {},
   "outputs": [
    {
     "name": "stdout",
     "output_type": "stream",
     "text": [
      "rows: 400 and columns: 5\n"
     ]
    },
    {
     "data": {
      "text/html": [
       "<div>\n",
       "<style scoped>\n",
       "    .dataframe tbody tr th:only-of-type {\n",
       "        vertical-align: middle;\n",
       "    }\n",
       "\n",
       "    .dataframe tbody tr th {\n",
       "        vertical-align: top;\n",
       "    }\n",
       "\n",
       "    .dataframe thead th {\n",
       "        text-align: right;\n",
       "    }\n",
       "</style>\n",
       "<table border=\"1\" class=\"dataframe\">\n",
       "  <thead>\n",
       "    <tr style=\"text-align: right;\">\n",
       "      <th></th>\n",
       "      <th>user_id</th>\n",
       "      <th>gender</th>\n",
       "      <th>age</th>\n",
       "      <th>estimated_salary</th>\n",
       "      <th>purchased</th>\n",
       "    </tr>\n",
       "  </thead>\n",
       "  <tbody>\n",
       "    <tr>\n",
       "      <th>0</th>\n",
       "      <td>15624510</td>\n",
       "      <td>Male</td>\n",
       "      <td>19</td>\n",
       "      <td>19000</td>\n",
       "      <td>0</td>\n",
       "    </tr>\n",
       "    <tr>\n",
       "      <th>1</th>\n",
       "      <td>15810944</td>\n",
       "      <td>Male</td>\n",
       "      <td>35</td>\n",
       "      <td>20000</td>\n",
       "      <td>0</td>\n",
       "    </tr>\n",
       "    <tr>\n",
       "      <th>2</th>\n",
       "      <td>15668575</td>\n",
       "      <td>Female</td>\n",
       "      <td>26</td>\n",
       "      <td>43000</td>\n",
       "      <td>0</td>\n",
       "    </tr>\n",
       "    <tr>\n",
       "      <th>3</th>\n",
       "      <td>15603246</td>\n",
       "      <td>Female</td>\n",
       "      <td>27</td>\n",
       "      <td>57000</td>\n",
       "      <td>0</td>\n",
       "    </tr>\n",
       "    <tr>\n",
       "      <th>4</th>\n",
       "      <td>15804002</td>\n",
       "      <td>Male</td>\n",
       "      <td>19</td>\n",
       "      <td>76000</td>\n",
       "      <td>0</td>\n",
       "    </tr>\n",
       "  </tbody>\n",
       "</table>\n",
       "</div>"
      ],
      "text/plain": [
       "    user_id  gender  age  estimated_salary  purchased\n",
       "0  15624510    Male   19             19000          0\n",
       "1  15810944    Male   35             20000          0\n",
       "2  15668575  Female   26             43000          0\n",
       "3  15603246  Female   27             57000          0\n",
       "4  15804002    Male   19             76000          0"
      ]
     },
     "execution_count": 12,
     "metadata": {},
     "output_type": "execute_result"
    }
   ],
   "source": [
    "# Step 1: Import the data from the \"social_network_ads.csv\" file and store it in a variable 'df'\n",
    "df = pd.read_csv('social_network_ads.csv')\n",
    "\n",
    "# Step 2: Display the number of rows and columns in the dataset\n",
    "print(f'rows: {df.shape[0]} and columns: {df.shape[1]}')\n",
    "\n",
    "# Step 3: Display the first few rows of the dataset to get an overview\n",
    "df.head()"
   ]
  },
  {
   "cell_type": "code",
   "execution_count": 20,
   "id": "a3e1a88a-47f6-4e00-96cc-8214fdf027fc",
   "metadata": {},
   "outputs": [
    {
     "data": {
      "text/plain": [
       "user_id             0\n",
       "gender              0\n",
       "age                 0\n",
       "estimated_salary    0\n",
       "purchased           0\n",
       "dtype: int64"
      ]
     },
     "execution_count": 20,
     "metadata": {},
     "output_type": "execute_result"
    }
   ],
   "source": [
    "# Step 4: Check for any missing values in the dataset and handle them appropriately\n",
    "df.isna().sum()"
   ]
  },
  {
   "cell_type": "code",
   "execution_count": 27,
   "id": "ac203aa4-bb03-4a81-afbc-12f06f520c4d",
   "metadata": {},
   "outputs": [
    {
     "data": {
      "text/plain": [
       "<matplotlib.collections.PathCollection at 0x22e29b842b0>"
      ]
     },
     "execution_count": 27,
     "metadata": {},
     "output_type": "execute_result"
    },
    {
     "data": {
      "image/png": "[encoded data removed]",
      "text/plain": [
       "<Figure size 640x480 with 1 Axes>"
      ]
     },
     "metadata": {},
     "output_type": "display_data"
    }
   ],
   "source": [
    "# Step 5: Visualize the distribution of users' age and estimated salary using scatter plots\n",
    "plt.scatter(df['age'], df['estimated_salary'], color='green')"
   ]
  },
  {
   "cell_type": "markdown",
   "id": "851a5137-2c93-4b8a-a022-917af18c76d2",
   "metadata": {},
   "source": [
    "### Task 2: Model Training Using Logistic Regression\n",
    "\n",
    "1. Encode the `gender` column (Male as 0 and Female as 1).\n",
    "2. Select the features `(age, estimated_salary, gender)` and the target variable `(purchased)` for modeling.\n",
    "3. Split the data into training and test sets with a test size of 30%.\n",
    "4. Initialize and train a Logistic Regression model using the training data.\n",
    "5. Print the model's coefficients and intercept."
   ]
  },
  {
   "cell_type": "code",
   "execution_count": 42,
   "id": "2301a008-29ad-4e96-af4f-551aca08d634",
   "metadata": {},
   "outputs": [],
   "source": [
    "# Step 1: Encode the gender column (Male as 0 and Female as 1)\n",
    "df['gender'] = df['gender'].apply(lambda x: 0 if x=='Male' else 1)\n",
    "df.head()\n",
    "# Step 2: Select the features and target variable for modeling\n",
    "X = df.drop(['purchased'], axis=1)\n",
    "y = df['purchased']\n",
    "\n",
    "# Step 3: Split the data into training and test sets with a test size of 30%\n",
    "X_train, X_test, y_train, y_test = train_test_split(X, y, test_size=0.2, random_state=40)\n"
   ]
  },
  {
   "cell_type": "code",
   "execution_count": 46,
   "id": "cef018a3-fed9-4b0e-ae06-7b6927279197",
   "metadata": {},
   "outputs": [
    {
     "name": "stdout",
     "output_type": "stream",
     "text": [
      "coef [[-7.96047475e-07  6.99026191e-06  2.36414926e-01  3.43908219e-05]] and intercept is [6.99026191e-06]\n"
     ]
    }
   ],
   "source": [
    "# Step 4: Initialize and train a Logistic Regression model using the training data\n",
    "logi_model = LogisticRegression()\n",
    "#Training the model\n",
    "logi_model.fit(X_train, y_train)\n",
    "# Step 5: Print the model's coefficients and intercept\n",
    "print(f'coef {logi_model.coef_} and intercept is {logi_model.intercept_}')"
   ]
  },
  {
   "cell_type": "markdown",
   "id": "44f6603f-fbfa-41f4-a877-ae7adff1dc95",
   "metadata": {},
   "source": [
    "### Task 3: Model Evaluation\n",
    "\n",
    "1. Make predictions on the test set using the trained model.\n",
    "2. Evaluate the model using a classification report, including precision, recall, and accuracy metrics."
   ]
  },
  {
   "cell_type": "code",
   "execution_count": 8,
   "id": "18b6dedc-3751-45f1-b3b5-8b391c9e8c2e",
   "metadata": {},
   "outputs": [],
   "source": [
    "# Step 1: Make predictions on the test set using the trained model\n",
    "\n",
    "\n",
    "# Step 2: Evaluate the model using a classification report, including precision, recall, and accuracy metrics\n"
   ]
  }
 ],
 "metadata": {
  "kernelspec": {
   "display_name": "Python 3 (ipykernel)",
   "language": "python",
   "name": "python3"
  },
  "language_info": {
   "codemirror_mode": {
    "name": "ipython",
    "version": 3
   },
   "file_extension": ".py",
   "mimetype": "text/x-python",
   "name": "python",
   "nbconvert_exporter": "python",
   "pygments_lexer": "ipython3",
   "version": "3.10.4"
  }
 },
 "nbformat": 4,
 "nbformat_minor": 5
}
