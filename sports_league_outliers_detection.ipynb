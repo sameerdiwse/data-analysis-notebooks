{
 "cells": [
  {
   "cell_type": "markdown",
   "id": "632e8efc",
   "metadata": {},
   "source": [
    "## Problem Statement\n",
    "\n",
    "\n",
    "You are a data scientist working for a sports analytics company. The dataset, named **\"sports_league_data.csv\"** includes a variety of attributes for players in the league. The columns in the dataset are as follows:\n",
    "\n",
    "- **player_id:** A unique identifier for each player.\n",
    "- **age:** Age of the player.\n",
    "- **position:** The position the player typically plays in (e.g., Forward, Midfielder, Defender, Goalkeeper).\n",
    "- **team:** The team the player belongs to.\n",
    "- **games_played:** The total number of games played by the player in the season.\n",
    "- **player_rating:** An overall performance rating for the player for the season."
   ]
  },
  {
   "cell_type": "markdown",
   "id": "3a64f293",
   "metadata": {},
   "source": [
    "**Import Necessary Libraries**"
   ]
  },
  {
   "cell_type": "code",
   "execution_count": 30,
   "id": "8a8c938b",
   "metadata": {},
   "outputs": [],
   "source": [
    "import numpy as np\n",
    "import pandas as pd\n",
    "from matplotlib import pyplot as plt\n",
    "import seaborn as sns"
   ]
  },
  {
   "cell_type": "markdown",
   "id": "e80ff04b",
   "metadata": {},
   "source": [
    "## Task1\n",
    "\n",
    "1. Import the data from the \"sports_league_data.csv\" file.\n",
    "2. display the number of rows and columns. \n",
    "3. Display the first few rows of the dataset to get an overview.\n"
   ]
  },
  {
   "cell_type": "code",
   "execution_count": 22,
   "id": "14d423f9-9d53-4a9f-9e8e-1741bd6eef62",
   "metadata": {},
   "outputs": [
    {
     "name": "stdout",
     "output_type": "stream",
     "text": [
      "this is shape: (1000, 6)\n"
     ]
    },
    {
     "data": {
      "text/html": [
       "<div>\n",
       "<style scoped>\n",
       "    .dataframe tbody tr th:only-of-type {\n",
       "        vertical-align: middle;\n",
       "    }\n",
       "\n",
       "    .dataframe tbody tr th {\n",
       "        vertical-align: top;\n",
       "    }\n",
       "\n",
       "    .dataframe thead th {\n",
       "        text-align: right;\n",
       "    }\n",
       "</style>\n",
       "<table border=\"1\" class=\"dataframe\">\n",
       "  <thead>\n",
       "    <tr style=\"text-align: right;\">\n",
       "      <th></th>\n",
       "      <th>player_id</th>\n",
       "      <th>age</th>\n",
       "      <th>position</th>\n",
       "      <th>team</th>\n",
       "      <th>games_played</th>\n",
       "      <th>player_rating</th>\n",
       "    </tr>\n",
       "  </thead>\n",
       "  <tbody>\n",
       "    <tr>\n",
       "      <th>0</th>\n",
       "      <td>P0001</td>\n",
       "      <td>34</td>\n",
       "      <td>Forward</td>\n",
       "      <td>Team 14</td>\n",
       "      <td>29</td>\n",
       "      <td>7.2</td>\n",
       "    </tr>\n",
       "    <tr>\n",
       "      <th>1</th>\n",
       "      <td>P0002</td>\n",
       "      <td>29</td>\n",
       "      <td>Defender</td>\n",
       "      <td>Team 15</td>\n",
       "      <td>27</td>\n",
       "      <td>8.3</td>\n",
       "    </tr>\n",
       "    <tr>\n",
       "      <th>2</th>\n",
       "      <td>P0003</td>\n",
       "      <td>31</td>\n",
       "      <td>Goalkeeper</td>\n",
       "      <td>Team 4</td>\n",
       "      <td>39</td>\n",
       "      <td>6.4</td>\n",
       "    </tr>\n",
       "    <tr>\n",
       "      <th>3</th>\n",
       "      <td>P0004</td>\n",
       "      <td>36</td>\n",
       "      <td>Goalkeeper</td>\n",
       "      <td>Team 6</td>\n",
       "      <td>35</td>\n",
       "      <td>6.6</td>\n",
       "    </tr>\n",
       "    <tr>\n",
       "      <th>4</th>\n",
       "      <td>P0005</td>\n",
       "      <td>34</td>\n",
       "      <td>Defender</td>\n",
       "      <td>Team 14</td>\n",
       "      <td>26</td>\n",
       "      <td>7.2</td>\n",
       "    </tr>\n",
       "  </tbody>\n",
       "</table>\n",
       "</div>"
      ],
      "text/plain": [
       "  player_id  age    position     team  games_played  player_rating\n",
       "0     P0001   34     Forward  Team 14            29            7.2\n",
       "1     P0002   29    Defender  Team 15            27            8.3\n",
       "2     P0003   31  Goalkeeper   Team 4            39            6.4\n",
       "3     P0004   36  Goalkeeper   Team 6            35            6.6\n",
       "4     P0005   34    Defender  Team 14            26            7.2"
      ]
     },
     "execution_count": 22,
     "metadata": {},
     "output_type": "execute_result"
    }
   ],
   "source": [
    "df = pd.read_csv('D:\\\\CodeBasics\\\\MathsnStats_Exercise4\\\\MathsnStats_Exercise4\\\\sports_league_data.csv')\n",
    "df.head()\n",
    "print(f'this is shape: {df.shape}')\n",
    "df.head()"
   ]
  },
  {
   "cell_type": "markdown",
   "id": "f865e3b1",
   "metadata": {},
   "source": [
    "## Task2:\n",
    "\n",
    "**Age Analysis:**\n",
    "- Mean: Calculate the average age of players in the league.\n",
    "- Standard Deviation Intervals:\n",
    "    - Calculate the age range within one standard deviation of the mean.\n",
    "    - Calculate the age range within two standard deviations of the mean.\n",
    "    - Calculate the age range within three standard deviations of the mean.\n",
    "  "
   ]
  },
  {
   "cell_type": "code",
   "execution_count": 21,
   "id": "6a8199fa",
   "metadata": {},
   "outputs": [
    {
     "name": "stdout",
     "output_type": "stream",
     "text": [
      "this is first level std dev: 9.150216525441486\n",
      "this is second level std dev: 18.300433050882972\n",
      "this is third level std dev: 27.450649576324455\n"
     ]
    }
   ],
   "source": [
    "mean = df['age'].mean()\n",
    "\n",
    "std_dev = df['age'].std()\n",
    "std_dev\n",
    "\n",
    "level_one_std_right = mean + std_dev\n",
    "level_one_std_left = mean - std_dev\n",
    "\n",
    "level_two_std_right = mean + 2*std_dev\n",
    "level_two_std_left = mean - 2*std_dev\n",
    "\n",
    "level_three_std_right = mean + 3*std_dev\n",
    "level_three_std_left = mean - 3*std_dev\n",
    "\n",
    "#Calculate the age range within one standard deviation of the mean.\n",
    "print(f'this is first level std dev: {level_one_std_right-level_one_std_left}')\n",
    "\n",
    "#Calculate the age range within two standard deviations of the mean.\n",
    "print(f'this is second level std dev: {level_two_std_right-level_two_std_left}')\n",
    "\n",
    "#Calculate the age range within three standard deviations of the mean.\n",
    "print(f'this is third level std dev: {level_three_std_right-level_three_std_left}')"
   ]
  },
  {
   "cell_type": "markdown",
   "id": "25ccac48",
   "metadata": {},
   "source": [
    "## Task3:\n",
    "\n",
    "**Player Rating Analysis:**\n",
    "- Mean: Determine the average player rating across the league.\n",
    "- Standard Deviation Intervals:\n",
    "    - Calculate the player rating range within one standard deviation of the mean.\n",
    "    - Calculate the player rating range within two standard deviations of the mean.\n",
    "    - Calculate the player rating range within three standard deviations of the mean."
   ]
  },
  {
   "cell_type": "code",
   "execution_count": 25,
   "id": "19d1a340",
   "metadata": {},
   "outputs": [
    {
     "name": "stdout",
     "output_type": "stream",
     "text": [
      "this is first rating range: 22.278891737279256 to 31.429108262720742\n",
      "this is second rating range: 17.703783474558513 to 36.004216525441485\n",
      "this is third rating range: 13.12867521183777 to 40.579324788162225\n"
     ]
    }
   ],
   "source": [
    "avg_player_rating = df['player_rating'].mean()\n",
    "avg_player_rating\n",
    "std_dev_player_rating = df['player_rating'].std()\n",
    "std_dev_player_rating\n",
    "\n",
    "level_one_std_rating_right = mean + std_dev\n",
    "level_one_std_rating_left = mean - std_dev\n",
    "\n",
    "level_two_std_rating_right = mean + 2*std_dev\n",
    "level_two_std_rating_left = mean - 2*std_dev\n",
    "\n",
    "level_three_std_rating_right = mean + 3*std_dev\n",
    "level_three_std_rating_left = mean - 3*std_dev\n",
    "\n",
    "#Calculate the player rating range within one standard deviation of the mean.\n",
    "print(f'this is first rating range: {level_one_std_rating_left} to {level_one_std_rating_right}')\n",
    "\n",
    "#Calculate the player rating range within two standard deviations of the mean.\n",
    "print(f'this is second rating range: {level_two_std_rating_left} to {level_two_std_rating_right}')\n",
    "\n",
    "#Calculate the player rating range within three standard deviations of the mean.\n",
    "print(f'this is third rating range: {level_three_std_rating_left} to {level_three_std_rating_right}')"
   ]
  },
  {
   "cell_type": "markdown",
   "id": "9a1d87b7",
   "metadata": {},
   "source": [
    "## Task4:\n",
    "\n",
    "Create histogram with Kernel Density Estimation (KDE) plots for both the 'age' and 'player_rating' columns from the dataset. While constructing these plots, ensure to visually represent the standard deviation intervals on the graph.\n"
   ]
  },
  {
   "cell_type": "markdown",
   "id": "f23088ec",
   "metadata": {},
   "source": [
    "- **'age'**"
   ]
  },
  {
   "cell_type": "code",
   "execution_count": 50,
   "id": "46496dc6",
   "metadata": {},
   "outputs": [
    {
     "data": {
      "text/plain": [
       "<matplotlib.lines.Line2D at 0x16a64f26770>"
      ]
     },
     "execution_count": 50,
     "metadata": {},
     "output_type": "execute_result"
    },
    {
     "data": {
      "image/png": "[encoded data removed]",
      "text/plain": [
       "<Figure size 640x480 with 1 Axes>"
      ]
     },
     "metadata": {},
     "output_type": "display_data"
    }
   ],
   "source": [
    "df[['age']].head()\n",
    "age_mean = df['age'].mean()\n",
    "age_std_dev = df['age'].std()\n",
    "\n",
    "hist = sns.histplot(df[['age']], kde=True);\n",
    "\n",
    "plt.xlabel('Age')\n",
    "\n",
    "plt.axvline(mean, color='b')\n",
    "\n",
    "# #First Standard Deviation\n",
    "plt.axvline(mean-age_std_dev, color='r')\n",
    "plt.axvline(mean+age_std_dev, color='r')\n",
    "\n",
    "# #Second Standard Deviation\n",
    "plt.axvline(mean-2*age_std_dev, color='g')\n",
    "plt.axvline(mean+2*age_std_dev, color='g')\n",
    "\n",
    "# #Third Standard Deviation\n",
    "plt.axvline(mean-3*age_std_dev, color='m')\n",
    "plt.axvline(mean+3*age_std_dev, color='m')"
   ]
  },
  {
   "cell_type": "markdown",
   "id": "d5796d1a",
   "metadata": {},
   "source": [
    "- **'player_rating'**"
   ]
  },
  {
   "cell_type": "code",
   "execution_count": 57,
   "id": "21b7ead2",
   "metadata": {},
   "outputs": [
    {
     "data": {
      "text/plain": [
       "<matplotlib.lines.Line2D at 0x16a64d2b760>"
      ]
     },
     "execution_count": 57,
     "metadata": {},
     "output_type": "execute_result"
    },
    {
     "data": {
      "image/png": "[encoded data removed]",
      "text/plain": [
       "<Figure size 640x480 with 1 Axes>"
      ]
     },
     "metadata": {},
     "output_type": "display_data"
    }
   ],
   "source": [
    "df[['player_rating']].head()\n",
    "rating_mean = df['player_rating'].mean()\n",
    "rating_std_dev = df['player_rating'].std()\n",
    "\n",
    "sns.histplot(df.player_rating, kde=True);\n",
    "\n",
    "plt.xlabel('Player Rating')\n",
    "\n",
    "plt.axvline(rating_mean, color='b')\n",
    "\n",
    "#First Standard Deviation\n",
    "plt.axvline(rating_mean-rating_std_dev, color='r')\n",
    "plt.axvline(rating_mean+rating_std_dev, color='r')\n",
    "\n",
    "#Second Standard Deviation\n",
    "plt.axvline(rating_mean-2*rating_std_dev, color='g')\n",
    "plt.axvline(rating_mean+2*rating_std_dev, color='g')\n",
    "\n",
    "#Third Standard Deviation\n",
    "plt.axvline(rating_mean-3*rating_std_dev, color='m')\n",
    "plt.axvline(rating_mean+3*rating_std_dev, color='m')"
   ]
  },
  {
   "cell_type": "markdown",
   "id": "2ce87d11",
   "metadata": {},
   "source": [
    "## Task5\n",
    "\n",
    "- Calculate the lower and upper boundaries for the 'Age' and 'Player_Rating' columns. \n",
    "- For each column, identify values that fall outside the calculated lower and upper boundaries. These values are considered outliers."
   ]
  },
  {
   "cell_type": "markdown",
   "id": "3986392d",
   "metadata": {},
   "source": [
    "- **Display age outliers**"
   ]
  },
  {
   "cell_type": "code",
   "execution_count": 63,
   "id": "03f8e1c1",
   "metadata": {},
   "outputs": [
    {
     "name": "stdout",
     "output_type": "stream",
     "text": [
      "age lower boundary: 13.13, age higher boundary 40.58\n",
      "These are outliers:     player_id  age    position     team  games_played  player_rating\n",
      "66      P0067   11  Midfielder  Team 18            38            6.4\n",
      "123     P0124   50  Midfielder  Team 11            23            5.9\n",
      "156     P0157   46  Midfielder   Team 6            16            4.5\n",
      "207     P0208   10     Forward  Team 15            30            6.0\n",
      "305     P0306   47  Midfielder   Team 7            22            7.6\n",
      "376     P0377   11    Defender  Team 16            25            6.1\n",
      "474     P0475   50  Goalkeeper   Team 4            24            7.4\n",
      "630     P0631   47    Defender  Team 16            28            6.0\n",
      "647     P0648   12  Goalkeeper  Team 16            21            6.1\n",
      "795     P0796   11  Goalkeeper   Team 8            33            7.5\n",
      "841     P0842   46  Midfielder  Team 18            35            6.0\n",
      "922     P0923   12     Forward  Team 14            30            5.5\n",
      "923     P0924   48    Defender  Team 17            26            5.6\n",
      "955     P0956   12  Goalkeeper  Team 10            33            5.6\n",
      "962     P0963   50     Forward   Team 8            29            8.0\n",
      "966     P0967   11    Defender  Team 11            33            7.1\n",
      "992     P0993   13    Defender   Team 6            35            7.1\n"
     ]
    }
   ],
   "source": [
    "age_lower_boundary = mean - 3 * std_dev\n",
    "age_higher_boundary = mean + 3 * std_dev\n",
    "print(f'age lower boundary: {round(age_lower_boundary,2)}, age higher boundary {round(age_higher_boundary,2)}')\n",
    "\n",
    "print(f'These are outliers: {df[(df.age<age_lower_boundary) | (df.age>age_higher_boundary)]}')"
   ]
  },
  {
   "cell_type": "markdown",
   "id": "af6a0dec",
   "metadata": {},
   "source": [
    "- **Display player_rating outliers**"
   ]
  },
  {
   "cell_type": "code",
   "execution_count": 65,
   "id": "c024e12e",
   "metadata": {},
   "outputs": [
    {
     "name": "stdout",
     "output_type": "stream",
     "text": [
      "age lower boundary: 2.19, age higher boundary 10.92\n"
     ]
    },
    {
     "data": {
      "text/html": [
       "<div>\n",
       "<style scoped>\n",
       "    .dataframe tbody tr th:only-of-type {\n",
       "        vertical-align: middle;\n",
       "    }\n",
       "\n",
       "    .dataframe tbody tr th {\n",
       "        vertical-align: top;\n",
       "    }\n",
       "\n",
       "    .dataframe thead th {\n",
       "        text-align: right;\n",
       "    }\n",
       "</style>\n",
       "<table border=\"1\" class=\"dataframe\">\n",
       "  <thead>\n",
       "    <tr style=\"text-align: right;\">\n",
       "      <th></th>\n",
       "      <th>player_id</th>\n",
       "      <th>age</th>\n",
       "      <th>position</th>\n",
       "      <th>team</th>\n",
       "      <th>games_played</th>\n",
       "      <th>player_rating</th>\n",
       "    </tr>\n",
       "  </thead>\n",
       "  <tbody>\n",
       "    <tr>\n",
       "      <th>0</th>\n",
       "      <td>P0001</td>\n",
       "      <td>34</td>\n",
       "      <td>Forward</td>\n",
       "      <td>Team 14</td>\n",
       "      <td>29</td>\n",
       "      <td>7.2</td>\n",
       "    </tr>\n",
       "    <tr>\n",
       "      <th>1</th>\n",
       "      <td>P0002</td>\n",
       "      <td>29</td>\n",
       "      <td>Defender</td>\n",
       "      <td>Team 15</td>\n",
       "      <td>27</td>\n",
       "      <td>8.3</td>\n",
       "    </tr>\n",
       "    <tr>\n",
       "      <th>2</th>\n",
       "      <td>P0003</td>\n",
       "      <td>31</td>\n",
       "      <td>Goalkeeper</td>\n",
       "      <td>Team 4</td>\n",
       "      <td>39</td>\n",
       "      <td>6.4</td>\n",
       "    </tr>\n",
       "    <tr>\n",
       "      <th>3</th>\n",
       "      <td>P0004</td>\n",
       "      <td>36</td>\n",
       "      <td>Goalkeeper</td>\n",
       "      <td>Team 6</td>\n",
       "      <td>35</td>\n",
       "      <td>6.6</td>\n",
       "    </tr>\n",
       "    <tr>\n",
       "      <th>4</th>\n",
       "      <td>P0005</td>\n",
       "      <td>34</td>\n",
       "      <td>Defender</td>\n",
       "      <td>Team 14</td>\n",
       "      <td>26</td>\n",
       "      <td>7.2</td>\n",
       "    </tr>\n",
       "    <tr>\n",
       "      <th>...</th>\n",
       "      <td>...</td>\n",
       "      <td>...</td>\n",
       "      <td>...</td>\n",
       "      <td>...</td>\n",
       "      <td>...</td>\n",
       "      <td>...</td>\n",
       "    </tr>\n",
       "    <tr>\n",
       "      <th>995</th>\n",
       "      <td>P0996</td>\n",
       "      <td>29</td>\n",
       "      <td>Defender</td>\n",
       "      <td>Team 19</td>\n",
       "      <td>22</td>\n",
       "      <td>7.6</td>\n",
       "    </tr>\n",
       "    <tr>\n",
       "      <th>996</th>\n",
       "      <td>P0997</td>\n",
       "      <td>26</td>\n",
       "      <td>Defender</td>\n",
       "      <td>Team 10</td>\n",
       "      <td>39</td>\n",
       "      <td>4.4</td>\n",
       "    </tr>\n",
       "    <tr>\n",
       "      <th>997</th>\n",
       "      <td>P0998</td>\n",
       "      <td>27</td>\n",
       "      <td>Forward</td>\n",
       "      <td>Team 8</td>\n",
       "      <td>40</td>\n",
       "      <td>6.4</td>\n",
       "    </tr>\n",
       "    <tr>\n",
       "      <th>998</th>\n",
       "      <td>P0999</td>\n",
       "      <td>22</td>\n",
       "      <td>Defender</td>\n",
       "      <td>Team 10</td>\n",
       "      <td>27</td>\n",
       "      <td>6.0</td>\n",
       "    </tr>\n",
       "    <tr>\n",
       "      <th>999</th>\n",
       "      <td>P1000</td>\n",
       "      <td>26</td>\n",
       "      <td>Defender</td>\n",
       "      <td>Team 9</td>\n",
       "      <td>34</td>\n",
       "      <td>7.2</td>\n",
       "    </tr>\n",
       "  </tbody>\n",
       "</table>\n",
       "<p>999 rows × 6 columns</p>\n",
       "</div>"
      ],
      "text/plain": [
       "    player_id  age    position     team  games_played  player_rating\n",
       "0       P0001   34     Forward  Team 14            29            7.2\n",
       "1       P0002   29    Defender  Team 15            27            8.3\n",
       "2       P0003   31  Goalkeeper   Team 4            39            6.4\n",
       "3       P0004   36  Goalkeeper   Team 6            35            6.6\n",
       "4       P0005   34    Defender  Team 14            26            7.2\n",
       "..        ...  ...         ...      ...           ...            ...\n",
       "995     P0996   29    Defender  Team 19            22            7.6\n",
       "996     P0997   26    Defender  Team 10            39            4.4\n",
       "997     P0998   27     Forward   Team 8            40            6.4\n",
       "998     P0999   22    Defender  Team 10            27            6.0\n",
       "999     P1000   26    Defender   Team 9            34            7.2\n",
       "\n",
       "[999 rows x 6 columns]"
      ]
     },
     "execution_count": 65,
     "metadata": {},
     "output_type": "execute_result"
    }
   ],
   "source": [
    "rating_lower_boundary = rating_mean - 3 * rating_std_dev\n",
    "rating_higher_boundary = rating_mean + 3 * rating_std_dev\n",
    "print(f'age lower boundary: {round(rating_lower_boundary,2)}, age higher boundary {round(rating_higher_boundary,2)}')\n",
    "\n",
    "df[(df.age<rating_lower_boundary) | (df.age>rating_higher_boundary)]"
   ]
  },
  {
   "cell_type": "markdown",
   "id": "cc71ab22",
   "metadata": {},
   "source": [
    "## Task6\n",
    "\n",
    "-  Remove outliers from both the 'age' and 'player_rating' columns and then visualize the adjusted data using histogram plots.\n"
   ]
  },
  {
   "cell_type": "code",
   "execution_count": 70,
   "id": "fef877cb",
   "metadata": {},
   "outputs": [
    {
     "data": {
      "image/png": "[encoded data removed]",
      "text/plain": [
       "<Figure size 640x480 with 1 Axes>"
      ]
     },
     "metadata": {},
     "output_type": "display_data"
    }
   ],
   "source": [
    "df[(df.age>age_lower_boundary)&(df.age<age_higher_boundary)]\n",
    "sns.histplot(df.age, kde=True);"
   ]
  },
  {
   "cell_type": "markdown",
   "id": "7cb10d56",
   "metadata": {},
   "source": [
    "- **plot the histograms**"
   ]
  },
  {
   "cell_type": "code",
   "execution_count": 71,
   "id": "7b7c1296",
   "metadata": {},
   "outputs": [
    {
     "data": {
      "image/png": "[encoded data removed]",
      "text/plain": [
       "<Figure size 640x480 with 1 Axes>"
      ]
     },
     "metadata": {},
     "output_type": "display_data"
    }
   ],
   "source": [
    "df[(df.age>rating_lower_boundary)&(df.age<rating_higher_boundary)]\n",
    "sns.histplot(df.player_rating, kde=True);"
   ]
  }
 ],
 "metadata": {
  "kernelspec": {
   "display_name": "Python 3 (ipykernel)",
   "language": "python",
   "name": "python3"
  },
  "language_info": {
   "codemirror_mode": {
    "name": "ipython",
    "version": 3
   },
   "file_extension": ".py",
   "mimetype": "text/x-python",
   "name": "python",
   "nbconvert_exporter": "python",
   "pygments_lexer": "ipython3",
   "version": "3.10.4"
  }
 },
 "nbformat": 4,
 "nbformat_minor": 5
}
