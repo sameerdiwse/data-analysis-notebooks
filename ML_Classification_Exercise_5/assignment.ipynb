{
 "cells": [
  {
   "cell_type": "markdown",
   "id": "30188e27-380f-42ea-86ef-579fd4c8b553",
   "metadata": {},
   "source": [
    "### Problem Statement\n",
    "\n",
    "You are a data scientist / AI engineer working on a classification problem to predict the likelihood of pet adoption. You have been provided with a dataset named **`\"pet_adoption.csv\"`**, which includes various parameters that affect the likelihood of pet adoption. The dataset comprises the following columns:\n",
    "\n",
    "- `pet_id:` Unique identifier for each pet.\n",
    "- `pet_type:` Type of pet (e.g., Dog, Cat, Bird, Rabbit).\n",
    "- `breed:` Specific breed of the pet.\n",
    "- `age_months:` Age of the pet in months.\n",
    "- `color:` Color of the pet.\n",
    "- `size:` Size category of the pet (Small, Medium, Large).\n",
    "- `weight_kg:` Weight of the pet in kilograms.\n",
    "- `vaccinated:` Vaccination status of the pet (0 - Not vaccinated, 1 - Vaccinated).\n",
    "- `health_condition:` Health condition of the pet (0 - Healthy, 1 - Medical condition).\n",
    "- `timein_shelter_days:` Duration the pet has been in the shelter (days).\n",
    "- `adoption_fee:` Adoption fee charged for the pet (in dollars).\n",
    "- `previous_owner:` Whether the pet had a previous owner (0 - No, 1 - Yes).\n",
    "- `adoption_likelihood:` Likelihood of the pet being adopted (0 - Unlikely, 1 - Likely).\n",
    "\n",
    "Your task is to use this dataset to build and evaluate machine learning models to predict the likelihood of pet adoption based on the given parameters. You will perform data preprocessing, exploratory data analysis, and model training using a Decision Tree algorithm.\n",
    "\n",
    "**Dataset credits:** Rabie El Kharoua (https://www.kaggle.com/datasets/rabieelkharoua/predict-pet-adoption-status-dataset)"
   ]
  },
  {
   "cell_type": "markdown",
   "id": "5af744b9-6650-4a48-94c2-d47024feb818",
   "metadata": {},
   "source": [
    "**Import Necessary Libraries**"
   ]
  },
  {
   "cell_type": "code",
   "execution_count": 1,
   "id": "cc480c5e-df8c-46ea-9f0b-ff91b97b55ac",
   "metadata": {},
   "outputs": [],
   "source": [
    "# Import Necessary Libraries\n"
   ]
  },
  {
   "cell_type": "markdown",
   "id": "877ef6a6-f38e-4e9b-a4a7-73ef65b9f98f",
   "metadata": {},
   "source": [
    "### Task 1: Data Preparation and Exploration\n",
    "\n",
    "1. Import the data from the `\"pet_adoption_data.csv\"` file and store it in a variable df.\n",
    "2. Display the number of rows and columns in the dataset.\n",
    "3. Display the first few rows of the dataset to get an overview.\n",
    "4. Drop the columns that do not add much value to the analysis `('pet_id')`.\n",
    "5. Visualize the distribution of the target variable 'adoption_likelihood' using a bar chart.\n",
    "6. Visualize the distribution of 'age_months' and 'adoption_fee' using histograms."
   ]
  },
  {
   "cell_type": "code",
   "execution_count": 2,
   "id": "b6e7d8f6-74d5-4d40-81ea-e892d32639bf",
   "metadata": {},
   "outputs": [],
   "source": [
    "# Step 1: Import the data from the \"pet_adoption.csv\" file\n",
    "\n",
    "\n",
    "# Step 2: Display the number of rows and columns in the dataset\n",
    "\n",
    "\n",
    "# Step 3: Display the first few rows of the dataset to get an overview\n"
   ]
  },
  {
   "cell_type": "code",
   "execution_count": 3,
   "id": "9baf93a7-dcb8-4db5-ac30-ea0a1d170dc7",
   "metadata": {},
   "outputs": [],
   "source": [
    "# Step 4: Drop the columns that do not add much value to the analysis\n",
    "\n"
   ]
  },
  {
   "cell_type": "code",
   "execution_count": 4,
   "id": "8f16abf0-28d8-49fe-93c8-dc88aff01d81",
   "metadata": {},
   "outputs": [],
   "source": [
    "# Step 5: Visualize the distribution of the target variable 'adoption_likelihood' using a bar chart\n"
   ]
  },
  {
   "cell_type": "code",
   "execution_count": 5,
   "id": "5079be20-8082-41b0-85da-16834660a1de",
   "metadata": {},
   "outputs": [],
   "source": [
    "# Step 6: Visualize the distribution of 'age_months' using a histogram\n"
   ]
  },
  {
   "cell_type": "code",
   "execution_count": 6,
   "id": "aa26c45b-d1d3-4e1e-948a-4bb1b1396106",
   "metadata": {},
   "outputs": [],
   "source": [
    "\n",
    "# Step 7: Visualize the distribution of 'adoption_fee' using a histogram\n"
   ]
  },
  {
   "cell_type": "markdown",
   "id": "a0082702-ac21-4eea-9bcf-94775f72b647",
   "metadata": {},
   "source": [
    "### Task 2: Data Encoding and Scaling\n",
    "\n",
    "1. Encode the categorical variables:\n",
    "    - `'size'`: Encode by mapping it to numbers (e.g., Small=1, Medium=2, Large=3).\n",
    "    - `'color'`, `'pet_type'`, `'breed'`: Apply one-hot encoding.\n",
    "<br></br>\n",
    "3. Scale the numerical features:\n",
    "    - `'weight_kg'`: MinMax scaling.\n",
    "    - `'adoption_fee'`: Standard scaling.\n",
    "<br></br>\n",
    "4. Display the first few rows of the updated dataset."
   ]
  },
  {
   "cell_type": "code",
   "execution_count": 1,
   "id": "80f3ba5f-1ba6-4b2c-b7b3-d2994138d63c",
   "metadata": {},
   "outputs": [],
   "source": [
    "# Step 1: Encode the categorical variables\n",
    "\n",
    "# Encode 'size' by mapping it to numbers (e.g., Small=1, Medium=2, Large=3).\n",
    "\n",
    "\n",
    "# Encode 'color', 'pet_type' and 'breed' using one-hot encoding\n"
   ]
  },
  {
   "cell_type": "code",
   "execution_count": 8,
   "id": "fdfbf20a-758f-4b8f-8e73-136a33d26af4",
   "metadata": {},
   "outputs": [],
   "source": [
    "# Step 2: Scale the numerical features\n",
    "\n",
    "# Scale 'weight_kg' using MinMaxScaler\n",
    "\n",
    "\n",
    "\n",
    "# Scale 'adoption_fee' using StandardScaler\n"
   ]
  },
  {
   "cell_type": "code",
   "execution_count": 9,
   "id": "5de2469a-e537-4ae9-834a-2b9fadd69269",
   "metadata": {},
   "outputs": [],
   "source": [
    "# step3: Display the first few rows of the updated dataset.\n",
    "\n"
   ]
  },
  {
   "cell_type": "markdown",
   "id": "7f3a1cf3-6e52-42f1-976c-1b20d0a021c5",
   "metadata": {},
   "source": [
    "### Task 3: Model Training Using Decision Tree\n",
    "\n",
    "1. Select the features and the target variable `('adoption_likelihood')` for modeling.\n",
    "2. Split the data into training and test sets with a test size of 30%.\n",
    "3. Initialize and train a Decision Tree Classifier using the training data.\n",
    "4. Print the model's accuracy score on the test data.\n",
    "5. Make predictions on the test set.\n",
    "6. Evaluate the model using a classification report and confusion matrix.\n",
    "7. Visualize the confusion matrix.\n",
    "8. Visualize the decision tree structure."
   ]
  },
  {
   "cell_type": "code",
   "execution_count": 10,
   "id": "d90062c9-7b5a-4e8e-8cfa-ac8ff7ee8034",
   "metadata": {},
   "outputs": [],
   "source": [
    "# Step 1: Select the features and the target variable for modeling\n",
    "\n",
    "\n",
    "\n",
    "# Step 2: Split the data into training and test sets with a test size of 30%\n"
   ]
  },
  {
   "cell_type": "code",
   "execution_count": 11,
   "id": "39da5939-3d8a-4bb0-8aa7-24b11c22122e",
   "metadata": {},
   "outputs": [],
   "source": [
    "# Step 3: Initialize and train a Decision Tree Classifier using the training data\n",
    "\n",
    "\n",
    "\n",
    "# Step 4: Print the model's accuracy score on the test data\n",
    "\n"
   ]
  },
  {
   "cell_type": "code",
   "execution_count": 12,
   "id": "42e0eb42-dd5e-4867-9a96-bdb9b5e7b467",
   "metadata": {},
   "outputs": [],
   "source": [
    "# Step 5: Make predictions on the test set\n",
    "\n",
    "\n",
    "# Step 6: Evaluate the model using a classification report and confusion matrix\n"
   ]
  },
  {
   "cell_type": "code",
   "execution_count": 13,
   "id": "2a35d1df-ef09-4ff0-b9b9-378aa1ac06d6",
   "metadata": {},
   "outputs": [],
   "source": [
    "# Step 7: Visualize the confusion matrix\n",
    "\n",
    "\n"
   ]
  },
  {
   "cell_type": "markdown",
   "id": "c6940e04-b43f-4347-881b-d1d12caa4aab",
   "metadata": {},
   "source": [
    "### Task 4: Experiment with Hyperparameters in Decision Tree\n",
    "\n",
    "1. Train the Decision Tree model with the following parameters:\n",
    "   - criterion='entropy'\n",
    "   - max_depth=5\n",
    "   - min_samples_split=10\n",
    "   - min_samples_leaf=5\n",
    "\n",
    "Learn about these parameters here: [DecisionTreeClassifier Parameters](https://scikit-learn.org/stable/modules/generated/sklearn.tree.DecisionTreeClassifier.html)\n",
    "\n",
    "--------------------------------------------------------------------------------------------------------------------------------------------------------\n",
    "\n",
    "\n",
    "2. Print the model's accuracy score on the test data.\n",
    "3. Evaluate the model using a classification report and confusion matrix.\n",
    "4. Visualize the confusion matrix.\n",
    "5. Visualize the decision tree structure."
   ]
  },
  {
   "cell_type": "code",
   "execution_count": 14,
   "id": "b21469b3-06af-4e11-a2b6-27cc3817179a",
   "metadata": {},
   "outputs": [],
   "source": [
    "# Step 1: Train the Decision Tree model with specified hyperparameters\n",
    "\n",
    "\n",
    "\n",
    "# Step 2: Print the model's accuracy score on the test data\n",
    "\n",
    "\n",
    "# Step 3: Make predictions on the test set\n",
    "\n",
    "\n",
    "# Step 4: Evaluate the model using a classification report and confusion matrix\n",
    "\n"
   ]
  },
  {
   "cell_type": "code",
   "execution_count": 15,
   "id": "79cc60af-815f-4330-9184-2ab580ff6135",
   "metadata": {},
   "outputs": [],
   "source": [
    "# Step 5: Visualize the confusion matrix\n"
   ]
  },
  {
   "cell_type": "code",
   "execution_count": 16,
   "id": "0051a80a-96ab-4de3-98b6-9de91dcc48a4",
   "metadata": {},
   "outputs": [],
   "source": [
    "# Step 6: Visualize the decision tree\n"
   ]
  }
 ],
 "metadata": {
  "kernelspec": {
   "display_name": "Python 3 (ipykernel)",
   "language": "python",
   "name": "python3"
  },
  "language_info": {
   "codemirror_mode": {
    "name": "ipython",
    "version": 3
   },
   "file_extension": ".py",
   "mimetype": "text/x-python",
   "name": "python",
   "nbconvert_exporter": "python",
   "pygments_lexer": "ipython3",
   "version": "3.10.11"
  }
 },
 "nbformat": 4,
 "nbformat_minor": 5
}
